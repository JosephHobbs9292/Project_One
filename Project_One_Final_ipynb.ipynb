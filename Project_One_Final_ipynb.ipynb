{
  "nbformat": 4,
  "nbformat_minor": 0,
  "metadata": {
    "colab": {
      "provenance": [],
      "authorship_tag": "ABX9TyNs7zIfnnKuuXJ5DzsSUbsm",
      "include_colab_link": true
    },
    "kernelspec": {
      "name": "python3",
      "display_name": "Python 3"
    },
    "language_info": {
      "name": "python"
    }
  },
  "cells": [
    {
      "cell_type": "markdown",
      "metadata": {
        "id": "view-in-github",
        "colab_type": "text"
      },
      "source": [
        "<a href=\"https://colab.research.google.com/github/JosephHobbs9292/Project_One/blob/main/Project_One_Final_ipynb.ipynb\" target=\"_parent\"><img src=\"https://colab.research.google.com/assets/colab-badge.svg\" alt=\"Open In Colab\"/></a>"
      ]
    },
    {
      "cell_type": "markdown",
      "source": [
        "# Joseph Cobbs\n",
        "--- "
      ],
      "metadata": {
        "id": "a5_Jrsx6qV7d"
      }
    },
    {
      "cell_type": "code",
      "execution_count": 1,
      "metadata": {
        "id": "n4Tf11ugo1Eu"
      },
      "outputs": [],
      "source": [
        "## importing libraries and mounting drive\n",
        "## Importing Libraries\n",
        "\n",
        "import pandas as pd\n",
        "import numpy as np\n",
        "import seaborn as sns\n",
        "import matplotlib.pyplot as plt\n",
        "\n",
        "from sklearn.model_selection import train_test_split\n",
        "from sklearn.compose import make_column_selector, make_column_transformer\n",
        "from sklearn.preprocessing import StandardScaler, OneHotEncoder, OrdinalEncoder\n",
        "from sklearn.pipeline import make_pipeline\n",
        "from sklearn.impute import SimpleImputer\n",
        "\n",
        "from sklearn.metrics import mean_absolute_error, mean_squared_error, r2_score\n",
        "\n",
        "from sklearn.ensemble import RandomForestRegressor, BaggingRegressor\n",
        "from sklearn.linear_model import LinearRegression\n",
        "from sklearn.tree import DecisionTreeRegressor\n",
        "from sklearn.dummy import DummyRegressor\n",
        "from sklearn.tree import plot_tree\n",
        "\n",
        "from sklearn import set_config\n",
        "set_config(display='diagram')"
      ]
    },
    {
      "cell_type": "markdown",
      "source": [
        "## Loading Data \n",
        "---"
      ],
      "metadata": {
        "id": "mQ1HLUy6qNWb"
      }
    },
    {
      "cell_type": "code",
      "source": [
        "## Load in dataset\n",
        "df_sales = pd.read_csv(\"/content/sales_predictions.csv\")\n",
        "df_sales.info"
      ],
      "metadata": {
        "colab": {
          "base_uri": "https://localhost:8080/"
        },
        "id": "5aKHTVzepIhO",
        "outputId": "caf6aa2c-fdb1-456d-e6e2-a9241fd4413b"
      },
      "execution_count": 2,
      "outputs": [
        {
          "output_type": "execute_result",
          "data": {
            "text/plain": [
              "<bound method DataFrame.info of      Item_Identifier  Item_Weight Item_Fat_Content  Item_Visibility  \\\n",
              "0              FDA15        9.300          Low Fat         0.016047   \n",
              "1              DRC01        5.920          Regular         0.019278   \n",
              "2              FDN15       17.500          Low Fat         0.016760   \n",
              "3              FDX07       19.200          Regular         0.000000   \n",
              "4              NCD19        8.930          Low Fat         0.000000   \n",
              "...              ...          ...              ...              ...   \n",
              "8518           FDF22        6.865          Low Fat         0.056783   \n",
              "8519           FDS36        8.380          Regular         0.046982   \n",
              "8520           NCJ29       10.600          Low Fat         0.035186   \n",
              "8521           FDN46        7.210          Regular         0.145221   \n",
              "8522           DRG01       14.800          Low Fat         0.044878   \n",
              "\n",
              "                  Item_Type  Item_MRP Outlet_Identifier  \\\n",
              "0                     Dairy  249.8092            OUT049   \n",
              "1               Soft Drinks   48.2692            OUT018   \n",
              "2                      Meat  141.6180            OUT049   \n",
              "3     Fruits and Vegetables  182.0950            OUT010   \n",
              "4                 Household   53.8614            OUT013   \n",
              "...                     ...       ...               ...   \n",
              "8518            Snack Foods  214.5218            OUT013   \n",
              "8519           Baking Goods  108.1570            OUT045   \n",
              "8520     Health and Hygiene   85.1224            OUT035   \n",
              "8521            Snack Foods  103.1332            OUT018   \n",
              "8522            Soft Drinks   75.4670            OUT046   \n",
              "\n",
              "      Outlet_Establishment_Year Outlet_Size Outlet_Location_Type  \\\n",
              "0                          1999      Medium               Tier 1   \n",
              "1                          2009      Medium               Tier 3   \n",
              "2                          1999      Medium               Tier 1   \n",
              "3                          1998         NaN               Tier 3   \n",
              "4                          1987        High               Tier 3   \n",
              "...                         ...         ...                  ...   \n",
              "8518                       1987        High               Tier 3   \n",
              "8519                       2002         NaN               Tier 2   \n",
              "8520                       2004       Small               Tier 2   \n",
              "8521                       2009      Medium               Tier 3   \n",
              "8522                       1997       Small               Tier 1   \n",
              "\n",
              "            Outlet_Type  Item_Outlet_Sales  \n",
              "0     Supermarket Type1          3735.1380  \n",
              "1     Supermarket Type2           443.4228  \n",
              "2     Supermarket Type1          2097.2700  \n",
              "3         Grocery Store           732.3800  \n",
              "4     Supermarket Type1           994.7052  \n",
              "...                 ...                ...  \n",
              "8518  Supermarket Type1          2778.3834  \n",
              "8519  Supermarket Type1           549.2850  \n",
              "8520  Supermarket Type1          1193.1136  \n",
              "8521  Supermarket Type2          1845.5976  \n",
              "8522  Supermarket Type1           765.6700  \n",
              "\n",
              "[8523 rows x 12 columns]>"
            ]
          },
          "metadata": {},
          "execution_count": 2
        }
      ]
    },
    {
      "cell_type": "code",
      "source": [
        "df_sales.head()"
      ],
      "metadata": {
        "colab": {
          "base_uri": "https://localhost:8080/",
          "height": 357
        },
        "id": "843L3buzpYZb",
        "outputId": "92695617-9549-4164-80e7-f541522390c1"
      },
      "execution_count": 3,
      "outputs": [
        {
          "output_type": "execute_result",
          "data": {
            "text/plain": [
              "  Item_Identifier  Item_Weight Item_Fat_Content  Item_Visibility  \\\n",
              "0           FDA15         9.30          Low Fat         0.016047   \n",
              "1           DRC01         5.92          Regular         0.019278   \n",
              "2           FDN15        17.50          Low Fat         0.016760   \n",
              "3           FDX07        19.20          Regular         0.000000   \n",
              "4           NCD19         8.93          Low Fat         0.000000   \n",
              "\n",
              "               Item_Type  Item_MRP Outlet_Identifier  \\\n",
              "0                  Dairy  249.8092            OUT049   \n",
              "1            Soft Drinks   48.2692            OUT018   \n",
              "2                   Meat  141.6180            OUT049   \n",
              "3  Fruits and Vegetables  182.0950            OUT010   \n",
              "4              Household   53.8614            OUT013   \n",
              "\n",
              "   Outlet_Establishment_Year Outlet_Size Outlet_Location_Type  \\\n",
              "0                       1999      Medium               Tier 1   \n",
              "1                       2009      Medium               Tier 3   \n",
              "2                       1999      Medium               Tier 1   \n",
              "3                       1998         NaN               Tier 3   \n",
              "4                       1987        High               Tier 3   \n",
              "\n",
              "         Outlet_Type  Item_Outlet_Sales  \n",
              "0  Supermarket Type1          3735.1380  \n",
              "1  Supermarket Type2           443.4228  \n",
              "2  Supermarket Type1          2097.2700  \n",
              "3      Grocery Store           732.3800  \n",
              "4  Supermarket Type1           994.7052  "
            ],
            "text/html": [
              "\n",
              "  <div id=\"df-8a65bbac-f938-4f01-9c76-d19fa46e47cb\">\n",
              "    <div class=\"colab-df-container\">\n",
              "      <div>\n",
              "<style scoped>\n",
              "    .dataframe tbody tr th:only-of-type {\n",
              "        vertical-align: middle;\n",
              "    }\n",
              "\n",
              "    .dataframe tbody tr th {\n",
              "        vertical-align: top;\n",
              "    }\n",
              "\n",
              "    .dataframe thead th {\n",
              "        text-align: right;\n",
              "    }\n",
              "</style>\n",
              "<table border=\"1\" class=\"dataframe\">\n",
              "  <thead>\n",
              "    <tr style=\"text-align: right;\">\n",
              "      <th></th>\n",
              "      <th>Item_Identifier</th>\n",
              "      <th>Item_Weight</th>\n",
              "      <th>Item_Fat_Content</th>\n",
              "      <th>Item_Visibility</th>\n",
              "      <th>Item_Type</th>\n",
              "      <th>Item_MRP</th>\n",
              "      <th>Outlet_Identifier</th>\n",
              "      <th>Outlet_Establishment_Year</th>\n",
              "      <th>Outlet_Size</th>\n",
              "      <th>Outlet_Location_Type</th>\n",
              "      <th>Outlet_Type</th>\n",
              "      <th>Item_Outlet_Sales</th>\n",
              "    </tr>\n",
              "  </thead>\n",
              "  <tbody>\n",
              "    <tr>\n",
              "      <th>0</th>\n",
              "      <td>FDA15</td>\n",
              "      <td>9.30</td>\n",
              "      <td>Low Fat</td>\n",
              "      <td>0.016047</td>\n",
              "      <td>Dairy</td>\n",
              "      <td>249.8092</td>\n",
              "      <td>OUT049</td>\n",
              "      <td>1999</td>\n",
              "      <td>Medium</td>\n",
              "      <td>Tier 1</td>\n",
              "      <td>Supermarket Type1</td>\n",
              "      <td>3735.1380</td>\n",
              "    </tr>\n",
              "    <tr>\n",
              "      <th>1</th>\n",
              "      <td>DRC01</td>\n",
              "      <td>5.92</td>\n",
              "      <td>Regular</td>\n",
              "      <td>0.019278</td>\n",
              "      <td>Soft Drinks</td>\n",
              "      <td>48.2692</td>\n",
              "      <td>OUT018</td>\n",
              "      <td>2009</td>\n",
              "      <td>Medium</td>\n",
              "      <td>Tier 3</td>\n",
              "      <td>Supermarket Type2</td>\n",
              "      <td>443.4228</td>\n",
              "    </tr>\n",
              "    <tr>\n",
              "      <th>2</th>\n",
              "      <td>FDN15</td>\n",
              "      <td>17.50</td>\n",
              "      <td>Low Fat</td>\n",
              "      <td>0.016760</td>\n",
              "      <td>Meat</td>\n",
              "      <td>141.6180</td>\n",
              "      <td>OUT049</td>\n",
              "      <td>1999</td>\n",
              "      <td>Medium</td>\n",
              "      <td>Tier 1</td>\n",
              "      <td>Supermarket Type1</td>\n",
              "      <td>2097.2700</td>\n",
              "    </tr>\n",
              "    <tr>\n",
              "      <th>3</th>\n",
              "      <td>FDX07</td>\n",
              "      <td>19.20</td>\n",
              "      <td>Regular</td>\n",
              "      <td>0.000000</td>\n",
              "      <td>Fruits and Vegetables</td>\n",
              "      <td>182.0950</td>\n",
              "      <td>OUT010</td>\n",
              "      <td>1998</td>\n",
              "      <td>NaN</td>\n",
              "      <td>Tier 3</td>\n",
              "      <td>Grocery Store</td>\n",
              "      <td>732.3800</td>\n",
              "    </tr>\n",
              "    <tr>\n",
              "      <th>4</th>\n",
              "      <td>NCD19</td>\n",
              "      <td>8.93</td>\n",
              "      <td>Low Fat</td>\n",
              "      <td>0.000000</td>\n",
              "      <td>Household</td>\n",
              "      <td>53.8614</td>\n",
              "      <td>OUT013</td>\n",
              "      <td>1987</td>\n",
              "      <td>High</td>\n",
              "      <td>Tier 3</td>\n",
              "      <td>Supermarket Type1</td>\n",
              "      <td>994.7052</td>\n",
              "    </tr>\n",
              "  </tbody>\n",
              "</table>\n",
              "</div>\n",
              "      <button class=\"colab-df-convert\" onclick=\"convertToInteractive('df-8a65bbac-f938-4f01-9c76-d19fa46e47cb')\"\n",
              "              title=\"Convert this dataframe to an interactive table.\"\n",
              "              style=\"display:none;\">\n",
              "        \n",
              "  <svg xmlns=\"http://www.w3.org/2000/svg\" height=\"24px\"viewBox=\"0 0 24 24\"\n",
              "       width=\"24px\">\n",
              "    <path d=\"M0 0h24v24H0V0z\" fill=\"none\"/>\n",
              "    <path d=\"M18.56 5.44l.94 2.06.94-2.06 2.06-.94-2.06-.94-.94-2.06-.94 2.06-2.06.94zm-11 1L8.5 8.5l.94-2.06 2.06-.94-2.06-.94L8.5 2.5l-.94 2.06-2.06.94zm10 10l.94 2.06.94-2.06 2.06-.94-2.06-.94-.94-2.06-.94 2.06-2.06.94z\"/><path d=\"M17.41 7.96l-1.37-1.37c-.4-.4-.92-.59-1.43-.59-.52 0-1.04.2-1.43.59L10.3 9.45l-7.72 7.72c-.78.78-.78 2.05 0 2.83L4 21.41c.39.39.9.59 1.41.59.51 0 1.02-.2 1.41-.59l7.78-7.78 2.81-2.81c.8-.78.8-2.07 0-2.86zM5.41 20L4 18.59l7.72-7.72 1.47 1.35L5.41 20z\"/>\n",
              "  </svg>\n",
              "      </button>\n",
              "      \n",
              "  <style>\n",
              "    .colab-df-container {\n",
              "      display:flex;\n",
              "      flex-wrap:wrap;\n",
              "      gap: 12px;\n",
              "    }\n",
              "\n",
              "    .colab-df-convert {\n",
              "      background-color: #E8F0FE;\n",
              "      border: none;\n",
              "      border-radius: 50%;\n",
              "      cursor: pointer;\n",
              "      display: none;\n",
              "      fill: #1967D2;\n",
              "      height: 32px;\n",
              "      padding: 0 0 0 0;\n",
              "      width: 32px;\n",
              "    }\n",
              "\n",
              "    .colab-df-convert:hover {\n",
              "      background-color: #E2EBFA;\n",
              "      box-shadow: 0px 1px 2px rgba(60, 64, 67, 0.3), 0px 1px 3px 1px rgba(60, 64, 67, 0.15);\n",
              "      fill: #174EA6;\n",
              "    }\n",
              "\n",
              "    [theme=dark] .colab-df-convert {\n",
              "      background-color: #3B4455;\n",
              "      fill: #D2E3FC;\n",
              "    }\n",
              "\n",
              "    [theme=dark] .colab-df-convert:hover {\n",
              "      background-color: #434B5C;\n",
              "      box-shadow: 0px 1px 3px 1px rgba(0, 0, 0, 0.15);\n",
              "      filter: drop-shadow(0px 1px 2px rgba(0, 0, 0, 0.3));\n",
              "      fill: #FFFFFF;\n",
              "    }\n",
              "  </style>\n",
              "\n",
              "      <script>\n",
              "        const buttonEl =\n",
              "          document.querySelector('#df-8a65bbac-f938-4f01-9c76-d19fa46e47cb button.colab-df-convert');\n",
              "        buttonEl.style.display =\n",
              "          google.colab.kernel.accessAllowed ? 'block' : 'none';\n",
              "\n",
              "        async function convertToInteractive(key) {\n",
              "          const element = document.querySelector('#df-8a65bbac-f938-4f01-9c76-d19fa46e47cb');\n",
              "          const dataTable =\n",
              "            await google.colab.kernel.invokeFunction('convertToInteractive',\n",
              "                                                     [key], {});\n",
              "          if (!dataTable) return;\n",
              "\n",
              "          const docLinkHtml = 'Like what you see? Visit the ' +\n",
              "            '<a target=\"_blank\" href=https://colab.research.google.com/notebooks/data_table.ipynb>data table notebook</a>'\n",
              "            + ' to learn more about interactive tables.';\n",
              "          element.innerHTML = '';\n",
              "          dataTable['output_type'] = 'display_data';\n",
              "          await google.colab.output.renderOutput(dataTable, element);\n",
              "          const docLink = document.createElement('div');\n",
              "          docLink.innerHTML = docLinkHtml;\n",
              "          element.appendChild(docLink);\n",
              "        }\n",
              "      </script>\n",
              "    </div>\n",
              "  </div>\n",
              "  "
            ]
          },
          "metadata": {},
          "execution_count": 3
        }
      ]
    },
    {
      "cell_type": "markdown",
      "source": [
        "## Data Cleaning\n",
        "---"
      ],
      "metadata": {
        "id": "00AZ2gYRqlet"
      }
    },
    {
      "cell_type": "code",
      "source": [
        "df_sales.shape\n"
      ],
      "metadata": {
        "colab": {
          "base_uri": "https://localhost:8080/"
        },
        "id": "injq1X31qjbJ",
        "outputId": "775a3eef-5942-4357-c978-a7b51d8bf222"
      },
      "execution_count": 4,
      "outputs": [
        {
          "output_type": "execute_result",
          "data": {
            "text/plain": [
              "(8523, 12)"
            ]
          },
          "metadata": {},
          "execution_count": 4
        }
      ]
    },
    {
      "cell_type": "code",
      "source": [
        "df_sales.dtypes"
      ],
      "metadata": {
        "colab": {
          "base_uri": "https://localhost:8080/"
        },
        "id": "2sM2hqGVwolo",
        "outputId": "cc242e82-6ddf-4b11-bbae-ecfc52f60b7e"
      },
      "execution_count": 5,
      "outputs": [
        {
          "output_type": "execute_result",
          "data": {
            "text/plain": [
              "Item_Identifier               object\n",
              "Item_Weight                  float64\n",
              "Item_Fat_Content              object\n",
              "Item_Visibility              float64\n",
              "Item_Type                     object\n",
              "Item_MRP                     float64\n",
              "Outlet_Identifier             object\n",
              "Outlet_Establishment_Year      int64\n",
              "Outlet_Size                   object\n",
              "Outlet_Location_Type          object\n",
              "Outlet_Type                   object\n",
              "Item_Outlet_Sales            float64\n",
              "dtype: object"
            ]
          },
          "metadata": {},
          "execution_count": 5
        }
      ]
    },
    {
      "cell_type": "code",
      "source": [
        "df_sales.duplicated().sum()"
      ],
      "metadata": {
        "colab": {
          "base_uri": "https://localhost:8080/"
        },
        "id": "g9PzcRYZwqvX",
        "outputId": "32151aff-5b1c-4549-c4e0-125c4e9da4c8"
      },
      "execution_count": 6,
      "outputs": [
        {
          "output_type": "execute_result",
          "data": {
            "text/plain": [
              "0"
            ]
          },
          "metadata": {},
          "execution_count": 6
        }
      ]
    },
    {
      "cell_type": "code",
      "source": [
        "df_sales.isna().sum()"
      ],
      "metadata": {
        "colab": {
          "base_uri": "https://localhost:8080/"
        },
        "id": "x1_1cTdAw9jF",
        "outputId": "c1a350ed-0a72-4252-a331-bd7bcc0c1a24"
      },
      "execution_count": 7,
      "outputs": [
        {
          "output_type": "execute_result",
          "data": {
            "text/plain": [
              "Item_Identifier                 0\n",
              "Item_Weight                  1463\n",
              "Item_Fat_Content                0\n",
              "Item_Visibility                 0\n",
              "Item_Type                       0\n",
              "Item_MRP                        0\n",
              "Outlet_Identifier               0\n",
              "Outlet_Establishment_Year       0\n",
              "Outlet_Size                  2410\n",
              "Outlet_Location_Type            0\n",
              "Outlet_Type                     0\n",
              "Item_Outlet_Sales               0\n",
              "dtype: int64"
            ]
          },
          "metadata": {},
          "execution_count": 7
        }
      ]
    },
    {
      "cell_type": "markdown",
      "source": [
        "There are several options to handle missing data: deleteing the affected columns or row, creating new categories to replace missing values, or simply filling in the  missing data. Since the missing data accounts 1463 values in Item_Weight and 2410 values in Outlet_Size deleteing these rows or columns would lead too great of a data loss. Thus, I will replacing the data with the mean and median values respectively: \n"
      ],
      "metadata": {
        "id": "l_7H0v2A4a5M"
      }
    },
    {
      "cell_type": "code",
      "source": [
        "average = df_sales[\"Item_Weight\"].mean()\n",
        "print(average)"
      ],
      "metadata": {
        "colab": {
          "base_uri": "https://localhost:8080/"
        },
        "id": "0RLDhxHwxKud",
        "outputId": "1dc632a4-8b58-43b0-e23e-435a3552ab28"
      },
      "execution_count": 8,
      "outputs": [
        {
          "output_type": "stream",
          "name": "stdout",
          "text": [
            "12.857645184135976\n"
          ]
        }
      ]
    },
    {
      "cell_type": "code",
      "source": [
        "median = df_sales[\"Outlet_Size\"].value_counts().median\n",
        "print(median)"
      ],
      "metadata": {
        "colab": {
          "base_uri": "https://localhost:8080/"
        },
        "id": "FN6D2rMC51eQ",
        "outputId": "b2528a89-4a05-47e0-b5a1-0dac970412cb"
      },
      "execution_count": 9,
      "outputs": [
        {
          "output_type": "stream",
          "name": "stdout",
          "text": [
            "<bound method NDFrame._add_numeric_operations.<locals>.median of Medium    2793\n",
            "Small     2388\n",
            "High       932\n",
            "Name: Outlet_Size, dtype: int64>\n"
          ]
        }
      ]
    },
    {
      "cell_type": "code",
      "source": [
        "df_sales[\"Item_Weight\"].fillna(average, inplace = True)\n",
        "df_sales[\"Item_Weight\"].isna().sum()"
      ],
      "metadata": {
        "colab": {
          "base_uri": "https://localhost:8080/"
        },
        "id": "N1fjd7yZ7-5p",
        "outputId": "8609ac00-4646-425a-a93b-d89067efb001"
      },
      "execution_count": 10,
      "outputs": [
        {
          "output_type": "execute_result",
          "data": {
            "text/plain": [
              "0"
            ]
          },
          "metadata": {},
          "execution_count": 10
        }
      ]
    },
    {
      "cell_type": "code",
      "source": [
        "df_sales[\"Outlet_Size\"].astype(str)\n",
        "df_sales[\"Outlet_Size\"].fillna(\"Medium\", inplace = True)\n",
        "df_sales[\"Outlet_Size\"].isna().sum()"
      ],
      "metadata": {
        "colab": {
          "base_uri": "https://localhost:8080/"
        },
        "id": "9yD5XD9e88Jc",
        "outputId": "51a98526-d9c0-4dd7-eb4f-2bda681e01aa"
      },
      "execution_count": 11,
      "outputs": [
        {
          "output_type": "execute_result",
          "data": {
            "text/plain": [
              "0"
            ]
          },
          "metadata": {},
          "execution_count": 11
        }
      ]
    },
    {
      "cell_type": "markdown",
      "source": [
        "## Verifying that all columns have consistent categories\n",
        "---"
      ],
      "metadata": {
        "id": "Kh_guFFoKkYZ"
      }
    },
    {
      "cell_type": "code",
      "source": [
        "df_sales[\"Item_Fat_Content\"].value_counts()"
      ],
      "metadata": {
        "colab": {
          "base_uri": "https://localhost:8080/"
        },
        "id": "Ga5G-I6U9Hmw",
        "outputId": "678482b5-f0b5-4198-f283-87f3a2ab92ab"
      },
      "execution_count": 12,
      "outputs": [
        {
          "output_type": "execute_result",
          "data": {
            "text/plain": [
              "Low Fat    5089\n",
              "Regular    2889\n",
              "LF          316\n",
              "reg         117\n",
              "low fat     112\n",
              "Name: Item_Fat_Content, dtype: int64"
            ]
          },
          "metadata": {},
          "execution_count": 12
        }
      ]
    },
    {
      "cell_type": "code",
      "source": [
        "df_sales.replace([\"LF\", \"reg\", \"low fat\"], [\"Low Fat\", \"Regular\", \"Low Fat\"], inplace = True)"
      ],
      "metadata": {
        "id": "eP2V1RsKERgf"
      },
      "execution_count": 13,
      "outputs": []
    },
    {
      "cell_type": "code",
      "source": [
        "df_sales[\"Item_Fat_Content\"].value_counts()"
      ],
      "metadata": {
        "colab": {
          "base_uri": "https://localhost:8080/"
        },
        "id": "5whcdj8qGld3",
        "outputId": "5a7ca867-3c44-43b3-a514-2a10f6c3dc97"
      },
      "execution_count": 14,
      "outputs": [
        {
          "output_type": "execute_result",
          "data": {
            "text/plain": [
              "Low Fat    5517\n",
              "Regular    3006\n",
              "Name: Item_Fat_Content, dtype: int64"
            ]
          },
          "metadata": {},
          "execution_count": 14
        }
      ]
    },
    {
      "cell_type": "code",
      "source": [
        "df_sales[\"Item_Type\"].value_counts()"
      ],
      "metadata": {
        "colab": {
          "base_uri": "https://localhost:8080/"
        },
        "id": "KYlUbYF0G9zE",
        "outputId": "1e46192d-b8d9-4a12-e167-4ebcd5939c97"
      },
      "execution_count": 15,
      "outputs": [
        {
          "output_type": "execute_result",
          "data": {
            "text/plain": [
              "Fruits and Vegetables    1232\n",
              "Snack Foods              1200\n",
              "Household                 910\n",
              "Frozen Foods              856\n",
              "Dairy                     682\n",
              "Canned                    649\n",
              "Baking Goods              648\n",
              "Health and Hygiene        520\n",
              "Soft Drinks               445\n",
              "Meat                      425\n",
              "Breads                    251\n",
              "Hard Drinks               214\n",
              "Others                    169\n",
              "Starchy Foods             148\n",
              "Breakfast                 110\n",
              "Seafood                    64\n",
              "Name: Item_Type, dtype: int64"
            ]
          },
          "metadata": {},
          "execution_count": 15
        }
      ]
    },
    {
      "cell_type": "code",
      "source": [
        "df_sales[\"Outlet_Identifier\"].value_counts()"
      ],
      "metadata": {
        "colab": {
          "base_uri": "https://localhost:8080/"
        },
        "id": "ze064OqjHEyQ",
        "outputId": "6366bad4-a42d-4289-9aac-d10775500fa6"
      },
      "execution_count": 16,
      "outputs": [
        {
          "output_type": "execute_result",
          "data": {
            "text/plain": [
              "OUT027    935\n",
              "OUT013    932\n",
              "OUT049    930\n",
              "OUT046    930\n",
              "OUT035    930\n",
              "OUT045    929\n",
              "OUT018    928\n",
              "OUT017    926\n",
              "OUT010    555\n",
              "OUT019    528\n",
              "Name: Outlet_Identifier, dtype: int64"
            ]
          },
          "metadata": {},
          "execution_count": 16
        }
      ]
    },
    {
      "cell_type": "code",
      "source": [
        "df_sales[\"Outlet_Location_Type\"].value_counts()"
      ],
      "metadata": {
        "colab": {
          "base_uri": "https://localhost:8080/"
        },
        "id": "GcbBzntNJcTj",
        "outputId": "8724e7c3-5a23-4f6d-c9a4-8318e82b315c"
      },
      "execution_count": 17,
      "outputs": [
        {
          "output_type": "execute_result",
          "data": {
            "text/plain": [
              "Tier 3    3350\n",
              "Tier 2    2785\n",
              "Tier 1    2388\n",
              "Name: Outlet_Location_Type, dtype: int64"
            ]
          },
          "metadata": {},
          "execution_count": 17
        }
      ]
    },
    {
      "cell_type": "code",
      "source": [
        "df_sales[\"Outlet_Type\"].value_counts()"
      ],
      "metadata": {
        "colab": {
          "base_uri": "https://localhost:8080/"
        },
        "id": "oAvNRp1iJ_bc",
        "outputId": "69785135-7d47-4fc4-a10e-ed75ae5a9bb1"
      },
      "execution_count": 18,
      "outputs": [
        {
          "output_type": "execute_result",
          "data": {
            "text/plain": [
              "Supermarket Type1    5577\n",
              "Grocery Store        1083\n",
              "Supermarket Type3     935\n",
              "Supermarket Type2     928\n",
              "Name: Outlet_Type, dtype: int64"
            ]
          },
          "metadata": {},
          "execution_count": 18
        }
      ]
    },
    {
      "cell_type": "markdown",
      "source": [
        "## Displaying descriptive statistics of numerical columns\n",
        "---"
      ],
      "metadata": {
        "id": "mffnAbX4Kg_s"
      }
    },
    {
      "cell_type": "code",
      "source": [
        "## Item_Weight\n",
        "Item_Weight_Mean = df_sales[\"Item_Weight\"].mean()\n",
        "Item_Weight_Max = df_sales[\"Item_Weight\"].max()\n",
        "Item_Weight_Min = df_sales[\"Item_Weight\"].min()\n",
        "print(f\"The Mean is: {Item_Weight_Mean}\\nThe Max is: {Item_Weight_Max}\\nThe Min is: {Item_Weight_Min}\")"
      ],
      "metadata": {
        "colab": {
          "base_uri": "https://localhost:8080/"
        },
        "id": "nudkoaPhKgPc",
        "outputId": "c4983755-c45c-4dd3-9b53-e0b1e2d6235b"
      },
      "execution_count": 19,
      "outputs": [
        {
          "output_type": "stream",
          "name": "stdout",
          "text": [
            "The Mean is: 12.857645184135976\n",
            "The Max is: 21.35\n",
            "The Min is: 4.555\n"
          ]
        }
      ]
    },
    {
      "cell_type": "code",
      "source": [
        "Item_Visibility_Mean = df_sales[\"Item_Visibility\"].mean()\n",
        "Item_Visibility_Max = df_sales[\"Item_Visibility\"].max()\n",
        "Item_Visibility_Min = df_sales[\"Item_Visibility\"].min()\n",
        "print(f\"The Mean is: {Item_Visibility_Mean}\\nThe Max is: {Item_Visibility_Max}\\nThe Min is: {Item_Visibility_Min}\")"
      ],
      "metadata": {
        "colab": {
          "base_uri": "https://localhost:8080/"
        },
        "id": "yed9H0FpNqKO",
        "outputId": "65421688-aa80-4db2-9fed-ecc7b22908dd"
      },
      "execution_count": 20,
      "outputs": [
        {
          "output_type": "stream",
          "name": "stdout",
          "text": [
            "The Mean is: 0.06613202877895108\n",
            "The Max is: 0.328390948\n",
            "The Min is: 0.0\n"
          ]
        }
      ]
    },
    {
      "cell_type": "code",
      "source": [
        "Item_MRP_Mean = df_sales[\"Item_MRP\"].mean()\n",
        "Item_MRP_Max = df_sales[\"Item_MRP\"].max()\n",
        "Item_MRP_Min = df_sales[\"Item_MRP\"].min()\n",
        "print(f\"The Mean is: {Item_MRP_Mean}\\nThe Max is: {Item_MRP_Max}\\nThe Min is: {Item_MRP_Min}\")"
      ],
      "metadata": {
        "colab": {
          "base_uri": "https://localhost:8080/"
        },
        "id": "ML4xr-ifOAT3",
        "outputId": "9ff1ab82-8fcf-4fd7-d5c7-0d8aae9fd5b9"
      },
      "execution_count": 21,
      "outputs": [
        {
          "output_type": "stream",
          "name": "stdout",
          "text": [
            "The Mean is: 140.9927819781767\n",
            "The Max is: 266.8884\n",
            "The Min is: 31.29\n"
          ]
        }
      ]
    },
    {
      "cell_type": "code",
      "source": [
        "Outlet_Establishment_Year_Mean = df_sales[\"Outlet_Establishment_Year\"].mean()\n",
        "Outlet_Establishment_Year_Max = df_sales[\"Outlet_Establishment_Year\"].max()\n",
        "Outlet_Establishment_Year_Min = df_sales[\"Outlet_Establishment_Year\"].min()\n",
        "print(f\"The Mean is: {Outlet_Establishment_Year_Mean}\\nThe Max is: {Outlet_Establishment_Year_Max}\\nThe Min is: {Outlet_Establishment_Year_Min}\")"
      ],
      "metadata": {
        "colab": {
          "base_uri": "https://localhost:8080/"
        },
        "id": "zxyphdpPP7Ze",
        "outputId": "93f432dd-a0aa-4de3-e29f-fa24fb2d0b0e"
      },
      "execution_count": 22,
      "outputs": [
        {
          "output_type": "stream",
          "name": "stdout",
          "text": [
            "The Mean is: 1997.8318667135984\n",
            "The Max is: 2009\n",
            "The Min is: 1985\n"
          ]
        }
      ]
    },
    {
      "cell_type": "code",
      "source": [
        "Item_Outlet_Sales_Mean = df_sales[\"Item_Outlet_Sales\"].mean()\n",
        "Item_Outlet_Sales_Max = df_sales[\"Item_Outlet_Sales\"].max()\n",
        "Item_Outlet_Sales_Min = df_sales[\"Item_Outlet_Sales\"].min()\n",
        "print(f\"The Mean is: {Item_Outlet_Sales_Mean}\\nThe Max is: {Item_Outlet_Sales_Max }\\nThe Min is: {Item_Outlet_Sales_Min}\")"
      ],
      "metadata": {
        "colab": {
          "base_uri": "https://localhost:8080/"
        },
        "id": "9PQS3JVMRE_n",
        "outputId": "09707f72-31ba-4207-debf-08797a9da9de"
      },
      "execution_count": 23,
      "outputs": [
        {
          "output_type": "stream",
          "name": "stdout",
          "text": [
            "The Mean is: 2181.288913575032\n",
            "The Max is: 13086.9648\n",
            "The Min is: 33.29\n"
          ]
        }
      ]
    },
    {
      "cell_type": "code",
      "source": [
        "df_sales[\"Item_Outlet_Sales\"].describe()"
      ],
      "metadata": {
        "colab": {
          "base_uri": "https://localhost:8080/"
        },
        "id": "GDLfjTZ5g9fw",
        "outputId": "495ae9c9-5254-4b48-bd97-86916e71ec04"
      },
      "execution_count": 24,
      "outputs": [
        {
          "output_type": "execute_result",
          "data": {
            "text/plain": [
              "count     8523.000000\n",
              "mean      2181.288914\n",
              "std       1706.499616\n",
              "min         33.290000\n",
              "25%        834.247400\n",
              "50%       1794.331000\n",
              "75%       3101.296400\n",
              "max      13086.964800\n",
              "Name: Item_Outlet_Sales, dtype: float64"
            ]
          },
          "metadata": {},
          "execution_count": 24
        }
      ]
    },
    {
      "cell_type": "markdown",
      "source": [
        "## Data Visualization\n",
        "----"
      ],
      "metadata": {
        "id": "gHW2RgWRY5e8"
      }
    },
    {
      "cell_type": "code",
      "source": [
        "df_sales.head()"
      ],
      "metadata": {
        "colab": {
          "base_uri": "https://localhost:8080/",
          "height": 357
        },
        "id": "eknwwa4oZFhf",
        "outputId": "4401fa24-6ef1-4e31-f1a4-2b6945db28a7"
      },
      "execution_count": 25,
      "outputs": [
        {
          "output_type": "execute_result",
          "data": {
            "text/plain": [
              "  Item_Identifier  Item_Weight Item_Fat_Content  Item_Visibility  \\\n",
              "0           FDA15         9.30          Low Fat         0.016047   \n",
              "1           DRC01         5.92          Regular         0.019278   \n",
              "2           FDN15        17.50          Low Fat         0.016760   \n",
              "3           FDX07        19.20          Regular         0.000000   \n",
              "4           NCD19         8.93          Low Fat         0.000000   \n",
              "\n",
              "               Item_Type  Item_MRP Outlet_Identifier  \\\n",
              "0                  Dairy  249.8092            OUT049   \n",
              "1            Soft Drinks   48.2692            OUT018   \n",
              "2                   Meat  141.6180            OUT049   \n",
              "3  Fruits and Vegetables  182.0950            OUT010   \n",
              "4              Household   53.8614            OUT013   \n",
              "\n",
              "   Outlet_Establishment_Year Outlet_Size Outlet_Location_Type  \\\n",
              "0                       1999      Medium               Tier 1   \n",
              "1                       2009      Medium               Tier 3   \n",
              "2                       1999      Medium               Tier 1   \n",
              "3                       1998      Medium               Tier 3   \n",
              "4                       1987        High               Tier 3   \n",
              "\n",
              "         Outlet_Type  Item_Outlet_Sales  \n",
              "0  Supermarket Type1          3735.1380  \n",
              "1  Supermarket Type2           443.4228  \n",
              "2  Supermarket Type1          2097.2700  \n",
              "3      Grocery Store           732.3800  \n",
              "4  Supermarket Type1           994.7052  "
            ],
            "text/html": [
              "\n",
              "  <div id=\"df-b1bf4801-7352-4b72-8ec8-18ac39bf16b3\">\n",
              "    <div class=\"colab-df-container\">\n",
              "      <div>\n",
              "<style scoped>\n",
              "    .dataframe tbody tr th:only-of-type {\n",
              "        vertical-align: middle;\n",
              "    }\n",
              "\n",
              "    .dataframe tbody tr th {\n",
              "        vertical-align: top;\n",
              "    }\n",
              "\n",
              "    .dataframe thead th {\n",
              "        text-align: right;\n",
              "    }\n",
              "</style>\n",
              "<table border=\"1\" class=\"dataframe\">\n",
              "  <thead>\n",
              "    <tr style=\"text-align: right;\">\n",
              "      <th></th>\n",
              "      <th>Item_Identifier</th>\n",
              "      <th>Item_Weight</th>\n",
              "      <th>Item_Fat_Content</th>\n",
              "      <th>Item_Visibility</th>\n",
              "      <th>Item_Type</th>\n",
              "      <th>Item_MRP</th>\n",
              "      <th>Outlet_Identifier</th>\n",
              "      <th>Outlet_Establishment_Year</th>\n",
              "      <th>Outlet_Size</th>\n",
              "      <th>Outlet_Location_Type</th>\n",
              "      <th>Outlet_Type</th>\n",
              "      <th>Item_Outlet_Sales</th>\n",
              "    </tr>\n",
              "  </thead>\n",
              "  <tbody>\n",
              "    <tr>\n",
              "      <th>0</th>\n",
              "      <td>FDA15</td>\n",
              "      <td>9.30</td>\n",
              "      <td>Low Fat</td>\n",
              "      <td>0.016047</td>\n",
              "      <td>Dairy</td>\n",
              "      <td>249.8092</td>\n",
              "      <td>OUT049</td>\n",
              "      <td>1999</td>\n",
              "      <td>Medium</td>\n",
              "      <td>Tier 1</td>\n",
              "      <td>Supermarket Type1</td>\n",
              "      <td>3735.1380</td>\n",
              "    </tr>\n",
              "    <tr>\n",
              "      <th>1</th>\n",
              "      <td>DRC01</td>\n",
              "      <td>5.92</td>\n",
              "      <td>Regular</td>\n",
              "      <td>0.019278</td>\n",
              "      <td>Soft Drinks</td>\n",
              "      <td>48.2692</td>\n",
              "      <td>OUT018</td>\n",
              "      <td>2009</td>\n",
              "      <td>Medium</td>\n",
              "      <td>Tier 3</td>\n",
              "      <td>Supermarket Type2</td>\n",
              "      <td>443.4228</td>\n",
              "    </tr>\n",
              "    <tr>\n",
              "      <th>2</th>\n",
              "      <td>FDN15</td>\n",
              "      <td>17.50</td>\n",
              "      <td>Low Fat</td>\n",
              "      <td>0.016760</td>\n",
              "      <td>Meat</td>\n",
              "      <td>141.6180</td>\n",
              "      <td>OUT049</td>\n",
              "      <td>1999</td>\n",
              "      <td>Medium</td>\n",
              "      <td>Tier 1</td>\n",
              "      <td>Supermarket Type1</td>\n",
              "      <td>2097.2700</td>\n",
              "    </tr>\n",
              "    <tr>\n",
              "      <th>3</th>\n",
              "      <td>FDX07</td>\n",
              "      <td>19.20</td>\n",
              "      <td>Regular</td>\n",
              "      <td>0.000000</td>\n",
              "      <td>Fruits and Vegetables</td>\n",
              "      <td>182.0950</td>\n",
              "      <td>OUT010</td>\n",
              "      <td>1998</td>\n",
              "      <td>Medium</td>\n",
              "      <td>Tier 3</td>\n",
              "      <td>Grocery Store</td>\n",
              "      <td>732.3800</td>\n",
              "    </tr>\n",
              "    <tr>\n",
              "      <th>4</th>\n",
              "      <td>NCD19</td>\n",
              "      <td>8.93</td>\n",
              "      <td>Low Fat</td>\n",
              "      <td>0.000000</td>\n",
              "      <td>Household</td>\n",
              "      <td>53.8614</td>\n",
              "      <td>OUT013</td>\n",
              "      <td>1987</td>\n",
              "      <td>High</td>\n",
              "      <td>Tier 3</td>\n",
              "      <td>Supermarket Type1</td>\n",
              "      <td>994.7052</td>\n",
              "    </tr>\n",
              "  </tbody>\n",
              "</table>\n",
              "</div>\n",
              "      <button class=\"colab-df-convert\" onclick=\"convertToInteractive('df-b1bf4801-7352-4b72-8ec8-18ac39bf16b3')\"\n",
              "              title=\"Convert this dataframe to an interactive table.\"\n",
              "              style=\"display:none;\">\n",
              "        \n",
              "  <svg xmlns=\"http://www.w3.org/2000/svg\" height=\"24px\"viewBox=\"0 0 24 24\"\n",
              "       width=\"24px\">\n",
              "    <path d=\"M0 0h24v24H0V0z\" fill=\"none\"/>\n",
              "    <path d=\"M18.56 5.44l.94 2.06.94-2.06 2.06-.94-2.06-.94-.94-2.06-.94 2.06-2.06.94zm-11 1L8.5 8.5l.94-2.06 2.06-.94-2.06-.94L8.5 2.5l-.94 2.06-2.06.94zm10 10l.94 2.06.94-2.06 2.06-.94-2.06-.94-.94-2.06-.94 2.06-2.06.94z\"/><path d=\"M17.41 7.96l-1.37-1.37c-.4-.4-.92-.59-1.43-.59-.52 0-1.04.2-1.43.59L10.3 9.45l-7.72 7.72c-.78.78-.78 2.05 0 2.83L4 21.41c.39.39.9.59 1.41.59.51 0 1.02-.2 1.41-.59l7.78-7.78 2.81-2.81c.8-.78.8-2.07 0-2.86zM5.41 20L4 18.59l7.72-7.72 1.47 1.35L5.41 20z\"/>\n",
              "  </svg>\n",
              "      </button>\n",
              "      \n",
              "  <style>\n",
              "    .colab-df-container {\n",
              "      display:flex;\n",
              "      flex-wrap:wrap;\n",
              "      gap: 12px;\n",
              "    }\n",
              "\n",
              "    .colab-df-convert {\n",
              "      background-color: #E8F0FE;\n",
              "      border: none;\n",
              "      border-radius: 50%;\n",
              "      cursor: pointer;\n",
              "      display: none;\n",
              "      fill: #1967D2;\n",
              "      height: 32px;\n",
              "      padding: 0 0 0 0;\n",
              "      width: 32px;\n",
              "    }\n",
              "\n",
              "    .colab-df-convert:hover {\n",
              "      background-color: #E2EBFA;\n",
              "      box-shadow: 0px 1px 2px rgba(60, 64, 67, 0.3), 0px 1px 3px 1px rgba(60, 64, 67, 0.15);\n",
              "      fill: #174EA6;\n",
              "    }\n",
              "\n",
              "    [theme=dark] .colab-df-convert {\n",
              "      background-color: #3B4455;\n",
              "      fill: #D2E3FC;\n",
              "    }\n",
              "\n",
              "    [theme=dark] .colab-df-convert:hover {\n",
              "      background-color: #434B5C;\n",
              "      box-shadow: 0px 1px 3px 1px rgba(0, 0, 0, 0.15);\n",
              "      filter: drop-shadow(0px 1px 2px rgba(0, 0, 0, 0.3));\n",
              "      fill: #FFFFFF;\n",
              "    }\n",
              "  </style>\n",
              "\n",
              "      <script>\n",
              "        const buttonEl =\n",
              "          document.querySelector('#df-b1bf4801-7352-4b72-8ec8-18ac39bf16b3 button.colab-df-convert');\n",
              "        buttonEl.style.display =\n",
              "          google.colab.kernel.accessAllowed ? 'block' : 'none';\n",
              "\n",
              "        async function convertToInteractive(key) {\n",
              "          const element = document.querySelector('#df-b1bf4801-7352-4b72-8ec8-18ac39bf16b3');\n",
              "          const dataTable =\n",
              "            await google.colab.kernel.invokeFunction('convertToInteractive',\n",
              "                                                     [key], {});\n",
              "          if (!dataTable) return;\n",
              "\n",
              "          const docLinkHtml = 'Like what you see? Visit the ' +\n",
              "            '<a target=\"_blank\" href=https://colab.research.google.com/notebooks/data_table.ipynb>data table notebook</a>'\n",
              "            + ' to learn more about interactive tables.';\n",
              "          element.innerHTML = '';\n",
              "          dataTable['output_type'] = 'display_data';\n",
              "          await google.colab.output.renderOutput(dataTable, element);\n",
              "          const docLink = document.createElement('div');\n",
              "          docLink.innerHTML = docLinkHtml;\n",
              "          element.appendChild(docLink);\n",
              "        }\n",
              "      </script>\n",
              "    </div>\n",
              "  </div>\n",
              "  "
            ]
          },
          "metadata": {},
          "execution_count": 25
        }
      ]
    },
    {
      "cell_type": "code",
      "source": [
        "## Theory to test: Are the older stores more established and efficient in their operations allowing them to sell on average more product.\n",
        "df_groupedbyage = df_sales.groupby(\"Outlet_Establishment_Year\")[\"Item_Outlet_Sales\"].mean()\n",
        "corr = df_sales.corr()\n",
        "\n",
        "fig, ax = plt.subplots(figsize=(12,8))\n",
        "sns.heatmap(corr, cmap = \"Reds\");"
      ],
      "metadata": {
        "id": "pBP83dV_aXGW",
        "colab": {
          "base_uri": "https://localhost:8080/",
          "height": 610
        },
        "outputId": "32d0ba69-776d-4d7b-f06a-29456cb613f6"
      },
      "execution_count": 26,
      "outputs": [
        {
          "output_type": "display_data",
          "data": {
            "text/plain": [
              "<Figure size 864x576 with 2 Axes>"
            ],
            "image/png": "[encoded data removed]"
          },
          "metadata": {
            "needs_background": "light"
          }
        }
      ]
    },
    {
      "cell_type": "code",
      "source": [
        "## Creating a boxplot to compare the sales of the three different sizes of stores. \n",
        "df_small = df_sales[\"Outlet_Size\"] == \"Small\"\n",
        "df_small_filtered = df_sales.loc[df_small, \"Item_Outlet_Sales\"]\n",
        "\n",
        "df_medium = df_sales[\"Outlet_Size\"] == \"Medium\"\n",
        "df_medium_filtered = df_sales.loc[df_medium, \"Item_Outlet_Sales\"]\n",
        "\n",
        "df_large = df_sales[\"Outlet_Size\"] == \"High\"\n",
        "df_large_filtered = df_sales.loc[df_large, \"Item_Outlet_Sales\"]\n",
        "\n",
        "mean = df_sales[\"Item_Outlet_Sales\"].mean()\n",
        "\n",
        "fig, ax = plt.subplots(figsize=(12,8));\n",
        "plt.style.use('seaborn');\n",
        "plt.boxplot([df_small_filtered, df_medium_filtered, df_large_filtered], labels = [\"Small\", \"Medium\", \"High\"]);\n",
        "plt.axhline(y = mean, color = 'r', linestyle = '--')"
      ],
      "metadata": {
        "colab": {
          "base_uri": "https://localhost:8080/",
          "height": 555
        },
        "id": "m_Ca6XrohO30",
        "outputId": "50199fe5-e92c-4967-fdd0-2c95ca10a489"
      },
      "execution_count": 27,
      "outputs": [
        {
          "output_type": "stream",
          "name": "stderr",
          "text": [
            "/usr/local/lib/python3.8/dist-packages/matplotlib/cbook/__init__.py:1376: VisibleDeprecationWarning: Creating an ndarray from ragged nested sequences (which is a list-or-tuple of lists-or-tuples-or ndarrays with different lengths or shapes) is deprecated. If you meant to do this, you must specify 'dtype=object' when creating the ndarray.\n",
            "  X = np.atleast_1d(X.T if isinstance(X, np.ndarray) else np.asarray(X))\n"
          ]
        },
        {
          "output_type": "execute_result",
          "data": {
            "text/plain": [
              "<matplotlib.lines.Line2D at 0x7f3ef6b157f0>"
            ]
          },
          "metadata": {},
          "execution_count": 27
        },
        {
          "output_type": "display_data",
          "data": {
            "text/plain": [
              "<Figure size 864x576 with 1 Axes>"
            ],
            "image/png": "[encoded data removed]"
          },
          "metadata": {
            "needs_background": "light"
          }
        }
      ]
    },
    {
      "cell_type": "code",
      "source": [
        "## Simple histogram to show that the quantity of sales above 6k is very low. \n",
        "plt.style.use('seaborn')\n",
        "df_sales[\"Item_Outlet_Sales\"].hist();"
      ],
      "metadata": {
        "colab": {
          "base_uri": "https://localhost:8080/",
          "height": 347
        },
        "id": "5fLQqIaHpXm_",
        "outputId": "62c89f0b-e275-478f-f2ac-4594f7cea01d"
      },
      "execution_count": 28,
      "outputs": [
        {
          "output_type": "display_data",
          "data": {
            "text/plain": [
              "<Figure size 576x396 with 1 Axes>"
            ],
            "image/png": "[encoded data removed]"
          },
          "metadata": {}
        }
      ]
    },
    {
      "cell_type": "markdown",
      "source": [
        "##Regression Models\n",
        "\n",
        "---"
      ],
      "metadata": {
        "id": "aOHNgD95Saf9"
      }
    },
    {
      "cell_type": "code",
      "source": [
        "## Spliting the data and running the train test split\n",
        "X = df_sales[[\"Item_Weight\", \"Outlet_Establishment_Year\", \"Outlet_Size\", \"Outlet_Location_Type\", \"Outlet_Type\", \"Item_Fat_Content\", \"Item_Visibility\", \"Item_Type\", \"Item_MRP\"]].copy()\n",
        "y = df_sales[\"Item_Outlet_Sales\"].copy()\n",
        "\n",
        "X_train, X_test, y_train, y_test = train_test_split(X, y, random_state=42)"
      ],
      "metadata": {
        "id": "5GAEgKNHShe2"
      },
      "execution_count": 29,
      "outputs": []
    },
    {
      "cell_type": "code",
      "source": [
        "## Creating the ordinal lists in order of least to most\n",
        "size_labels = [\"Small\", \"Medium\", \"High\"]\n",
        "outlet_location_type_labels = [\"Tier 1\", \"Tier 2\", \"Tier 3\"]\n",
        "ordered_labels = [size_labels, outlet_location_type_labels]\n",
        "\n",
        "ordinal = OrdinalEncoder(categories = ordered_labels)"
      ],
      "metadata": {
        "id": "pt8uOOWzSk8A"
      },
      "execution_count": 30,
      "outputs": []
    },
    {
      "cell_type": "code",
      "source": [
        "## Organizing columns\n",
        "ordinal_columns = [\"Outlet_Size\", \"Outlet_Location_Type\"]\n",
        "numerical_columns = [\"Item_Weight\", \"Outlet_Establishment_Year\", \"Item_Visibility\", \"Item_MRP\"]\n",
        "nominal_columns = [\"Item_Fat_Content\", \"Outlet_Type\", \"Item_Fat_Content\", \"Item_Type\"]"
      ],
      "metadata": {
        "id": "7OVdyiUlSmJv"
      },
      "execution_count": 31,
      "outputs": []
    },
    {
      "cell_type": "code",
      "source": [
        "## Creating transformers \n",
        "scaler = StandardScaler()\n",
        "ohe = OneHotEncoder(sparse=False, handle_unknown='ignore')\n",
        "\n",
        "mean_imputer = SimpleImputer(strategy='mean')\n",
        "freq_imputer = SimpleImputer(strategy='most_frequent')\n",
        "missing_imputer = SimpleImputer(strategy='constant', fill_value='missing')"
      ],
      "metadata": {
        "id": "_GVTOYetSoZ-"
      },
      "execution_count": 32,
      "outputs": []
    },
    {
      "cell_type": "code",
      "source": [
        "## Creating pipelines\n",
        "num_pipeline = make_pipeline(mean_imputer, scaler)\n",
        "ord_pipeline = make_pipeline(freq_imputer, ordinal)\n",
        "nom_pipelne = make_pipeline(missing_imputer, ohe)"
      ],
      "metadata": {
        "id": "nq99fX_nSp6M"
      },
      "execution_count": 33,
      "outputs": []
    },
    {
      "cell_type": "code",
      "source": [
        "## Creating tuples \n",
        "ordinal_tuple = (ord_pipeline, ordinal_columns)\n",
        "numerical_tuple = (num_pipeline, numerical_columns)\n",
        "nominal_tuple = (nom_pipelne, nominal_columns)"
      ],
      "metadata": {
        "id": "7chtUJphSqdC"
      },
      "execution_count": 34,
      "outputs": []
    },
    {
      "cell_type": "code",
      "source": [
        "## Column transformer\n",
        "preprocessor = make_column_transformer(ordinal_tuple, numerical_tuple, nominal_tuple, remainder='drop')\n",
        "preprocessor.fit(X_train)"
      ],
      "metadata": {
        "id": "aAteyaeHSr2B",
        "colab": {
          "base_uri": "https://localhost:8080/",
          "height": 152
        },
        "outputId": "9d3f005a-7028-4ad7-eb79-c51151ddad3a"
      },
      "execution_count": 35,
      "outputs": [
        {
          "output_type": "execute_result",
          "data": {
            "text/plain": [
              "ColumnTransformer(transformers=[('pipeline-1',\n",
              "                                 Pipeline(steps=[('simpleimputer',\n",
              "                                                  SimpleImputer(strategy='most_frequent')),\n",
              "                                                 ('ordinalencoder',\n",
              "                                                  OrdinalEncoder(categories=[['Small',\n",
              "                                                                              'Medium',\n",
              "                                                                              'High'],\n",
              "                                                                             ['Tier '\n",
              "                                                                              '1',\n",
              "                                                                              'Tier '\n",
              "                                                                              '2',\n",
              "                                                                              'Tier '\n",
              "                                                                              '3']]))]),\n",
              "                                 ['Outlet_Size', 'Outlet_Location_Type']),\n",
              "                                ('pipeline-2',\n",
              "                                 Pipeline(steps=[('simpleimputer',\n",
              "                                                  SimpleImputer()),\n",
              "                                                 ('standardscaler',\n",
              "                                                  StandardScaler())]),\n",
              "                                 ['Item_Weight', 'Outlet_Establishment_Year',\n",
              "                                  'Item_Visibility', 'Item_MRP']),\n",
              "                                ('pipeline-3',\n",
              "                                 Pipeline(steps=[('simpleimputer',\n",
              "                                                  SimpleImputer(fill_value='missing',\n",
              "                                                                strategy='constant')),\n",
              "                                                 ('onehotencoder',\n",
              "                                                  OneHotEncoder(handle_unknown='ignore',\n",
              "                                                                sparse=False))]),\n",
              "                                 ['Item_Fat_Content', 'Outlet_Type',\n",
              "                                  'Item_Fat_Content', 'Item_Type'])])"
            ],
            "text/html": [
              "<style>#sk-4f4be2bd-3e2e-49f1-bce8-22e9c7139b3a {color: black;background-color: white;}#sk-4f4be2bd-3e2e-49f1-bce8-22e9c7139b3a pre{padding: 0;}#sk-4f4be2bd-3e2e-49f1-bce8-22e9c7139b3a div.sk-toggleable {background-color: white;}#sk-4f4be2bd-3e2e-49f1-bce8-22e9c7139b3a label.sk-toggleable__label {cursor: pointer;display: block;width: 100%;margin-bottom: 0;padding: 0.3em;box-sizing: border-box;text-align: center;}#sk-4f4be2bd-3e2e-49f1-bce8-22e9c7139b3a label.sk-toggleable__label-arrow:before {content: \"▸\";float: left;margin-right: 0.25em;color: #696969;}#sk-4f4be2bd-3e2e-49f1-bce8-22e9c7139b3a label.sk-toggleable__label-arrow:hover:before {color: black;}#sk-4f4be2bd-3e2e-49f1-bce8-22e9c7139b3a div.sk-estimator:hover label.sk-toggleable__label-arrow:before {color: black;}#sk-4f4be2bd-3e2e-49f1-bce8-22e9c7139b3a div.sk-toggleable__content {max-height: 0;max-width: 0;overflow: hidden;text-align: left;background-color: #f0f8ff;}#sk-4f4be2bd-3e2e-49f1-bce8-22e9c7139b3a div.sk-toggleable__content pre {margin: 0.2em;color: black;border-radius: 0.25em;background-color: #f0f8ff;}#sk-4f4be2bd-3e2e-49f1-bce8-22e9c7139b3a input.sk-toggleable__control:checked~div.sk-toggleable__content {max-height: 200px;max-width: 100%;overflow: auto;}#sk-4f4be2bd-3e2e-49f1-bce8-22e9c7139b3a input.sk-toggleable__control:checked~label.sk-toggleable__label-arrow:before {content: \"▾\";}#sk-4f4be2bd-3e2e-49f1-bce8-22e9c7139b3a div.sk-estimator input.sk-toggleable__control:checked~label.sk-toggleable__label {background-color: #d4ebff;}#sk-4f4be2bd-3e2e-49f1-bce8-22e9c7139b3a div.sk-label input.sk-toggleable__control:checked~label.sk-toggleable__label {background-color: #d4ebff;}#sk-4f4be2bd-3e2e-49f1-bce8-22e9c7139b3a input.sk-hidden--visually {border: 0;clip: rect(1px 1px 1px 1px);clip: rect(1px, 1px, 1px, 1px);height: 1px;margin: -1px;overflow: hidden;padding: 0;position: absolute;width: 1px;}#sk-4f4be2bd-3e2e-49f1-bce8-22e9c7139b3a div.sk-estimator {font-family: monospace;background-color: #f0f8ff;border: 1px dotted black;border-radius: 0.25em;box-sizing: border-box;margin-bottom: 0.5em;}#sk-4f4be2bd-3e2e-49f1-bce8-22e9c7139b3a div.sk-estimator:hover {background-color: #d4ebff;}#sk-4f4be2bd-3e2e-49f1-bce8-22e9c7139b3a div.sk-parallel-item::after {content: \"\";width: 100%;border-bottom: 1px solid gray;flex-grow: 1;}#sk-4f4be2bd-3e2e-49f1-bce8-22e9c7139b3a div.sk-label:hover label.sk-toggleable__label {background-color: #d4ebff;}#sk-4f4be2bd-3e2e-49f1-bce8-22e9c7139b3a div.sk-serial::before {content: \"\";position: absolute;border-left: 1px solid gray;box-sizing: border-box;top: 2em;bottom: 0;left: 50%;}#sk-4f4be2bd-3e2e-49f1-bce8-22e9c7139b3a div.sk-serial {display: flex;flex-direction: column;align-items: center;background-color: white;padding-right: 0.2em;padding-left: 0.2em;}#sk-4f4be2bd-3e2e-49f1-bce8-22e9c7139b3a div.sk-item {z-index: 1;}#sk-4f4be2bd-3e2e-49f1-bce8-22e9c7139b3a div.sk-parallel {display: flex;align-items: stretch;justify-content: center;background-color: white;}#sk-4f4be2bd-3e2e-49f1-bce8-22e9c7139b3a div.sk-parallel::before {content: \"\";position: absolute;border-left: 1px solid gray;box-sizing: border-box;top: 2em;bottom: 0;left: 50%;}#sk-4f4be2bd-3e2e-49f1-bce8-22e9c7139b3a div.sk-parallel-item {display: flex;flex-direction: column;position: relative;background-color: white;}#sk-4f4be2bd-3e2e-49f1-bce8-22e9c7139b3a div.sk-parallel-item:first-child::after {align-self: flex-end;width: 50%;}#sk-4f4be2bd-3e2e-49f1-bce8-22e9c7139b3a div.sk-parallel-item:last-child::after {align-self: flex-start;width: 50%;}#sk-4f4be2bd-3e2e-49f1-bce8-22e9c7139b3a div.sk-parallel-item:only-child::after {width: 0;}#sk-4f4be2bd-3e2e-49f1-bce8-22e9c7139b3a div.sk-dashed-wrapped {border: 1px dashed gray;margin: 0 0.4em 0.5em 0.4em;box-sizing: border-box;padding-bottom: 0.4em;background-color: white;position: relative;}#sk-4f4be2bd-3e2e-49f1-bce8-22e9c7139b3a div.sk-label label {font-family: monospace;font-weight: bold;background-color: white;display: inline-block;line-height: 1.2em;}#sk-4f4be2bd-3e2e-49f1-bce8-22e9c7139b3a div.sk-label-container {position: relative;z-index: 2;text-align: center;}#sk-4f4be2bd-3e2e-49f1-bce8-22e9c7139b3a div.sk-container {/* jupyter's `normalize.less` sets `[hidden] { display: none; }` but bootstrap.min.css set `[hidden] { display: none !important; }` so we also need the `!important` here to be able to override the default hidden behavior on the sphinx rendered scikit-learn.org. See: https://github.com/scikit-learn/scikit-learn/issues/21755 */display: inline-block !important;position: relative;}#sk-4f4be2bd-3e2e-49f1-bce8-22e9c7139b3a div.sk-text-repr-fallback {display: none;}</style><div id=\"sk-4f4be2bd-3e2e-49f1-bce8-22e9c7139b3a\" class=\"sk-top-container\"><div class=\"sk-text-repr-fallback\"><pre>ColumnTransformer(transformers=[(&#x27;pipeline-1&#x27;,\n",
              "                                 Pipeline(steps=[(&#x27;simpleimputer&#x27;,\n",
              "                                                  SimpleImputer(strategy=&#x27;most_frequent&#x27;)),\n",
              "                                                 (&#x27;ordinalencoder&#x27;,\n",
              "                                                  OrdinalEncoder(categories=[[&#x27;Small&#x27;,\n",
              "                                                                              &#x27;Medium&#x27;,\n",
              "                                                                              &#x27;High&#x27;],\n",
              "                                                                             [&#x27;Tier &#x27;\n",
              "                                                                              &#x27;1&#x27;,\n",
              "                                                                              &#x27;Tier &#x27;\n",
              "                                                                              &#x27;2&#x27;,\n",
              "                                                                              &#x27;Tier &#x27;\n",
              "                                                                              &#x27;3&#x27;]]))]),\n",
              "                                 [&#x27;Outlet_Size&#x27;, &#x27;Outlet_Location_Type&#x27;]),\n",
              "                                (&#x27;pipeline-2&#x27;,\n",
              "                                 Pipeline(steps=[(&#x27;simpleimputer&#x27;,\n",
              "                                                  SimpleImputer()),\n",
              "                                                 (&#x27;standardscaler&#x27;,\n",
              "                                                  StandardScaler())]),\n",
              "                                 [&#x27;Item_Weight&#x27;, &#x27;Outlet_Establishment_Year&#x27;,\n",
              "                                  &#x27;Item_Visibility&#x27;, &#x27;Item_MRP&#x27;]),\n",
              "                                (&#x27;pipeline-3&#x27;,\n",
              "                                 Pipeline(steps=[(&#x27;simpleimputer&#x27;,\n",
              "                                                  SimpleImputer(fill_value=&#x27;missing&#x27;,\n",
              "                                                                strategy=&#x27;constant&#x27;)),\n",
              "                                                 (&#x27;onehotencoder&#x27;,\n",
              "                                                  OneHotEncoder(handle_unknown=&#x27;ignore&#x27;,\n",
              "                                                                sparse=False))]),\n",
              "                                 [&#x27;Item_Fat_Content&#x27;, &#x27;Outlet_Type&#x27;,\n",
              "                                  &#x27;Item_Fat_Content&#x27;, &#x27;Item_Type&#x27;])])</pre><b>Please rerun this cell to show the HTML repr or trust the notebook.</b></div><div class=\"sk-container\" hidden><div class=\"sk-item sk-dashed-wrapped\"><div class=\"sk-label-container\"><div class=\"sk-label sk-toggleable\"><input class=\"sk-toggleable__control sk-hidden--visually\" id=\"4b2748e0-e6a0-49d4-a9b3-fa6373479cfc\" type=\"checkbox\" ><label for=\"4b2748e0-e6a0-49d4-a9b3-fa6373479cfc\" class=\"sk-toggleable__label sk-toggleable__label-arrow\">ColumnTransformer</label><div class=\"sk-toggleable__content\"><pre>ColumnTransformer(transformers=[(&#x27;pipeline-1&#x27;,\n",
              "                                 Pipeline(steps=[(&#x27;simpleimputer&#x27;,\n",
              "                                                  SimpleImputer(strategy=&#x27;most_frequent&#x27;)),\n",
              "                                                 (&#x27;ordinalencoder&#x27;,\n",
              "                                                  OrdinalEncoder(categories=[[&#x27;Small&#x27;,\n",
              "                                                                              &#x27;Medium&#x27;,\n",
              "                                                                              &#x27;High&#x27;],\n",
              "                                                                             [&#x27;Tier &#x27;\n",
              "                                                                              &#x27;1&#x27;,\n",
              "                                                                              &#x27;Tier &#x27;\n",
              "                                                                              &#x27;2&#x27;,\n",
              "                                                                              &#x27;Tier &#x27;\n",
              "                                                                              &#x27;3&#x27;]]))]),\n",
              "                                 [&#x27;Outlet_Size&#x27;, &#x27;Outlet_Location_Type&#x27;]),\n",
              "                                (&#x27;pipeline-2&#x27;,\n",
              "                                 Pipeline(steps=[(&#x27;simpleimputer&#x27;,\n",
              "                                                  SimpleImputer()),\n",
              "                                                 (&#x27;standardscaler&#x27;,\n",
              "                                                  StandardScaler())]),\n",
              "                                 [&#x27;Item_Weight&#x27;, &#x27;Outlet_Establishment_Year&#x27;,\n",
              "                                  &#x27;Item_Visibility&#x27;, &#x27;Item_MRP&#x27;]),\n",
              "                                (&#x27;pipeline-3&#x27;,\n",
              "                                 Pipeline(steps=[(&#x27;simpleimputer&#x27;,\n",
              "                                                  SimpleImputer(fill_value=&#x27;missing&#x27;,\n",
              "                                                                strategy=&#x27;constant&#x27;)),\n",
              "                                                 (&#x27;onehotencoder&#x27;,\n",
              "                                                  OneHotEncoder(handle_unknown=&#x27;ignore&#x27;,\n",
              "                                                                sparse=False))]),\n",
              "                                 [&#x27;Item_Fat_Content&#x27;, &#x27;Outlet_Type&#x27;,\n",
              "                                  &#x27;Item_Fat_Content&#x27;, &#x27;Item_Type&#x27;])])</pre></div></div></div><div class=\"sk-parallel\"><div class=\"sk-parallel-item\"><div class=\"sk-item\"><div class=\"sk-label-container\"><div class=\"sk-label sk-toggleable\"><input class=\"sk-toggleable__control sk-hidden--visually\" id=\"c4b83b9f-7605-4a3f-b8ec-c7532f308591\" type=\"checkbox\" ><label for=\"c4b83b9f-7605-4a3f-b8ec-c7532f308591\" class=\"sk-toggleable__label sk-toggleable__label-arrow\">pipeline-1</label><div class=\"sk-toggleable__content\"><pre>[&#x27;Outlet_Size&#x27;, &#x27;Outlet_Location_Type&#x27;]</pre></div></div></div><div class=\"sk-serial\"><div class=\"sk-item\"><div class=\"sk-serial\"><div class=\"sk-item\"><div class=\"sk-estimator sk-toggleable\"><input class=\"sk-toggleable__control sk-hidden--visually\" id=\"6648e028-db59-4071-b67b-cc59537a2965\" type=\"checkbox\" ><label for=\"6648e028-db59-4071-b67b-cc59537a2965\" class=\"sk-toggleable__label sk-toggleable__label-arrow\">SimpleImputer</label><div class=\"sk-toggleable__content\"><pre>SimpleImputer(strategy=&#x27;most_frequent&#x27;)</pre></div></div></div><div class=\"sk-item\"><div class=\"sk-estimator sk-toggleable\"><input class=\"sk-toggleable__control sk-hidden--visually\" id=\"7442d882-fe41-46d4-8d1c-4d1180bae71a\" type=\"checkbox\" ><label for=\"7442d882-fe41-46d4-8d1c-4d1180bae71a\" class=\"sk-toggleable__label sk-toggleable__label-arrow\">OrdinalEncoder</label><div class=\"sk-toggleable__content\"><pre>OrdinalEncoder(categories=[[&#x27;Small&#x27;, &#x27;Medium&#x27;, &#x27;High&#x27;],\n",
              "                           [&#x27;Tier 1&#x27;, &#x27;Tier 2&#x27;, &#x27;Tier 3&#x27;]])</pre></div></div></div></div></div></div></div></div><div class=\"sk-parallel-item\"><div class=\"sk-item\"><div class=\"sk-label-container\"><div class=\"sk-label sk-toggleable\"><input class=\"sk-toggleable__control sk-hidden--visually\" id=\"5a032784-8339-43eb-915b-5845f6ca7bc0\" type=\"checkbox\" ><label for=\"5a032784-8339-43eb-915b-5845f6ca7bc0\" class=\"sk-toggleable__label sk-toggleable__label-arrow\">pipeline-2</label><div class=\"sk-toggleable__content\"><pre>[&#x27;Item_Weight&#x27;, &#x27;Outlet_Establishment_Year&#x27;, &#x27;Item_Visibility&#x27;, &#x27;Item_MRP&#x27;]</pre></div></div></div><div class=\"sk-serial\"><div class=\"sk-item\"><div class=\"sk-serial\"><div class=\"sk-item\"><div class=\"sk-estimator sk-toggleable\"><input class=\"sk-toggleable__control sk-hidden--visually\" id=\"d3df553f-d1e8-428d-9f7d-a55a5e25c25e\" type=\"checkbox\" ><label for=\"d3df553f-d1e8-428d-9f7d-a55a5e25c25e\" class=\"sk-toggleable__label sk-toggleable__label-arrow\">SimpleImputer</label><div class=\"sk-toggleable__content\"><pre>SimpleImputer()</pre></div></div></div><div class=\"sk-item\"><div class=\"sk-estimator sk-toggleable\"><input class=\"sk-toggleable__control sk-hidden--visually\" id=\"5aa53a58-c836-46c9-ba13-dde937edc6ae\" type=\"checkbox\" ><label for=\"5aa53a58-c836-46c9-ba13-dde937edc6ae\" class=\"sk-toggleable__label sk-toggleable__label-arrow\">StandardScaler</label><div class=\"sk-toggleable__content\"><pre>StandardScaler()</pre></div></div></div></div></div></div></div></div><div class=\"sk-parallel-item\"><div class=\"sk-item\"><div class=\"sk-label-container\"><div class=\"sk-label sk-toggleable\"><input class=\"sk-toggleable__control sk-hidden--visually\" id=\"709e5d35-68d8-43e3-963d-d89346c04e14\" type=\"checkbox\" ><label for=\"709e5d35-68d8-43e3-963d-d89346c04e14\" class=\"sk-toggleable__label sk-toggleable__label-arrow\">pipeline-3</label><div class=\"sk-toggleable__content\"><pre>[&#x27;Item_Fat_Content&#x27;, &#x27;Outlet_Type&#x27;, &#x27;Item_Fat_Content&#x27;, &#x27;Item_Type&#x27;]</pre></div></div></div><div class=\"sk-serial\"><div class=\"sk-item\"><div class=\"sk-serial\"><div class=\"sk-item\"><div class=\"sk-estimator sk-toggleable\"><input class=\"sk-toggleable__control sk-hidden--visually\" id=\"5f72e105-07e6-44f8-b6cf-f0bbc6976af3\" type=\"checkbox\" ><label for=\"5f72e105-07e6-44f8-b6cf-f0bbc6976af3\" class=\"sk-toggleable__label sk-toggleable__label-arrow\">SimpleImputer</label><div class=\"sk-toggleable__content\"><pre>SimpleImputer(fill_value=&#x27;missing&#x27;, strategy=&#x27;constant&#x27;)</pre></div></div></div><div class=\"sk-item\"><div class=\"sk-estimator sk-toggleable\"><input class=\"sk-toggleable__control sk-hidden--visually\" id=\"3ebf7fc6-7735-4f13-9642-9280cb40c54a\" type=\"checkbox\" ><label for=\"3ebf7fc6-7735-4f13-9642-9280cb40c54a\" class=\"sk-toggleable__label sk-toggleable__label-arrow\">OneHotEncoder</label><div class=\"sk-toggleable__content\"><pre>OneHotEncoder(handle_unknown=&#x27;ignore&#x27;, sparse=False)</pre></div></div></div></div></div></div></div></div></div></div></div></div>"
            ]
          },
          "metadata": {},
          "execution_count": 35
        }
      ]
    },
    {
      "cell_type": "code",
      "source": [
        "## Linear regression model\n",
        "reg = LinearRegression()\n",
        "regression_pipeline = make_pipeline(preprocessor, reg)\n",
        "regression_pipeline.fit(X_train, y_train)"
      ],
      "metadata": {
        "id": "e_Jd0mMxStK7",
        "colab": {
          "base_uri": "https://localhost:8080/",
          "height": 227
        },
        "outputId": "5cf4051f-7396-40f3-f37c-e6aeb27d526b"
      },
      "execution_count": 36,
      "outputs": [
        {
          "output_type": "execute_result",
          "data": {
            "text/plain": [
              "Pipeline(steps=[('columntransformer',\n",
              "                 ColumnTransformer(transformers=[('pipeline-1',\n",
              "                                                  Pipeline(steps=[('simpleimputer',\n",
              "                                                                   SimpleImputer(strategy='most_frequent')),\n",
              "                                                                  ('ordinalencoder',\n",
              "                                                                   OrdinalEncoder(categories=[['Small',\n",
              "                                                                                               'Medium',\n",
              "                                                                                               'High'],\n",
              "                                                                                              ['Tier '\n",
              "                                                                                               '1',\n",
              "                                                                                               'Tier '\n",
              "                                                                                               '2',\n",
              "                                                                                               'Tier '\n",
              "                                                                                               '3']]))]),\n",
              "                                                  ['Outlet_Size',\n",
              "                                                   'Outlet_Location_Type']),\n",
              "                                                 ('pipeline-2',\n",
              "                                                  Pipeline(steps=[('simpleimputer...\n",
              "                                                  ['Item_Weight',\n",
              "                                                   'Outlet_Establishment_Year',\n",
              "                                                   'Item_Visibility',\n",
              "                                                   'Item_MRP']),\n",
              "                                                 ('pipeline-3',\n",
              "                                                  Pipeline(steps=[('simpleimputer',\n",
              "                                                                   SimpleImputer(fill_value='missing',\n",
              "                                                                                 strategy='constant')),\n",
              "                                                                  ('onehotencoder',\n",
              "                                                                   OneHotEncoder(handle_unknown='ignore',\n",
              "                                                                                 sparse=False))]),\n",
              "                                                  ['Item_Fat_Content',\n",
              "                                                   'Outlet_Type',\n",
              "                                                   'Item_Fat_Content',\n",
              "                                                   'Item_Type'])])),\n",
              "                ('linearregression', LinearRegression())])"
            ],
            "text/html": [
              "<style>#sk-e192f86c-5853-4bf5-a7b7-31c4bde1b0c7 {color: black;background-color: white;}#sk-e192f86c-5853-4bf5-a7b7-31c4bde1b0c7 pre{padding: 0;}#sk-e192f86c-5853-4bf5-a7b7-31c4bde1b0c7 div.sk-toggleable {background-color: white;}#sk-e192f86c-5853-4bf5-a7b7-31c4bde1b0c7 label.sk-toggleable__label {cursor: pointer;display: block;width: 100%;margin-bottom: 0;padding: 0.3em;box-sizing: border-box;text-align: center;}#sk-e192f86c-5853-4bf5-a7b7-31c4bde1b0c7 label.sk-toggleable__label-arrow:before {content: \"▸\";float: left;margin-right: 0.25em;color: #696969;}#sk-e192f86c-5853-4bf5-a7b7-31c4bde1b0c7 label.sk-toggleable__label-arrow:hover:before {color: black;}#sk-e192f86c-5853-4bf5-a7b7-31c4bde1b0c7 div.sk-estimator:hover label.sk-toggleable__label-arrow:before {color: black;}#sk-e192f86c-5853-4bf5-a7b7-31c4bde1b0c7 div.sk-toggleable__content {max-height: 0;max-width: 0;overflow: hidden;text-align: left;background-color: #f0f8ff;}#sk-e192f86c-5853-4bf5-a7b7-31c4bde1b0c7 div.sk-toggleable__content pre {margin: 0.2em;color: black;border-radius: 0.25em;background-color: #f0f8ff;}#sk-e192f86c-5853-4bf5-a7b7-31c4bde1b0c7 input.sk-toggleable__control:checked~div.sk-toggleable__content {max-height: 200px;max-width: 100%;overflow: auto;}#sk-e192f86c-5853-4bf5-a7b7-31c4bde1b0c7 input.sk-toggleable__control:checked~label.sk-toggleable__label-arrow:before {content: \"▾\";}#sk-e192f86c-5853-4bf5-a7b7-31c4bde1b0c7 div.sk-estimator input.sk-toggleable__control:checked~label.sk-toggleable__label {background-color: #d4ebff;}#sk-e192f86c-5853-4bf5-a7b7-31c4bde1b0c7 div.sk-label input.sk-toggleable__control:checked~label.sk-toggleable__label {background-color: #d4ebff;}#sk-e192f86c-5853-4bf5-a7b7-31c4bde1b0c7 input.sk-hidden--visually {border: 0;clip: rect(1px 1px 1px 1px);clip: rect(1px, 1px, 1px, 1px);height: 1px;margin: -1px;overflow: hidden;padding: 0;position: absolute;width: 1px;}#sk-e192f86c-5853-4bf5-a7b7-31c4bde1b0c7 div.sk-estimator {font-family: monospace;background-color: #f0f8ff;border: 1px dotted black;border-radius: 0.25em;box-sizing: border-box;margin-bottom: 0.5em;}#sk-e192f86c-5853-4bf5-a7b7-31c4bde1b0c7 div.sk-estimator:hover {background-color: #d4ebff;}#sk-e192f86c-5853-4bf5-a7b7-31c4bde1b0c7 div.sk-parallel-item::after {content: \"\";width: 100%;border-bottom: 1px solid gray;flex-grow: 1;}#sk-e192f86c-5853-4bf5-a7b7-31c4bde1b0c7 div.sk-label:hover label.sk-toggleable__label {background-color: #d4ebff;}#sk-e192f86c-5853-4bf5-a7b7-31c4bde1b0c7 div.sk-serial::before {content: \"\";position: absolute;border-left: 1px solid gray;box-sizing: border-box;top: 2em;bottom: 0;left: 50%;}#sk-e192f86c-5853-4bf5-a7b7-31c4bde1b0c7 div.sk-serial {display: flex;flex-direction: column;align-items: center;background-color: white;padding-right: 0.2em;padding-left: 0.2em;}#sk-e192f86c-5853-4bf5-a7b7-31c4bde1b0c7 div.sk-item {z-index: 1;}#sk-e192f86c-5853-4bf5-a7b7-31c4bde1b0c7 div.sk-parallel {display: flex;align-items: stretch;justify-content: center;background-color: white;}#sk-e192f86c-5853-4bf5-a7b7-31c4bde1b0c7 div.sk-parallel::before {content: \"\";position: absolute;border-left: 1px solid gray;box-sizing: border-box;top: 2em;bottom: 0;left: 50%;}#sk-e192f86c-5853-4bf5-a7b7-31c4bde1b0c7 div.sk-parallel-item {display: flex;flex-direction: column;position: relative;background-color: white;}#sk-e192f86c-5853-4bf5-a7b7-31c4bde1b0c7 div.sk-parallel-item:first-child::after {align-self: flex-end;width: 50%;}#sk-e192f86c-5853-4bf5-a7b7-31c4bde1b0c7 div.sk-parallel-item:last-child::after {align-self: flex-start;width: 50%;}#sk-e192f86c-5853-4bf5-a7b7-31c4bde1b0c7 div.sk-parallel-item:only-child::after {width: 0;}#sk-e192f86c-5853-4bf5-a7b7-31c4bde1b0c7 div.sk-dashed-wrapped {border: 1px dashed gray;margin: 0 0.4em 0.5em 0.4em;box-sizing: border-box;padding-bottom: 0.4em;background-color: white;position: relative;}#sk-e192f86c-5853-4bf5-a7b7-31c4bde1b0c7 div.sk-label label {font-family: monospace;font-weight: bold;background-color: white;display: inline-block;line-height: 1.2em;}#sk-e192f86c-5853-4bf5-a7b7-31c4bde1b0c7 div.sk-label-container {position: relative;z-index: 2;text-align: center;}#sk-e192f86c-5853-4bf5-a7b7-31c4bde1b0c7 div.sk-container {/* jupyter's `normalize.less` sets `[hidden] { display: none; }` but bootstrap.min.css set `[hidden] { display: none !important; }` so we also need the `!important` here to be able to override the default hidden behavior on the sphinx rendered scikit-learn.org. See: https://github.com/scikit-learn/scikit-learn/issues/21755 */display: inline-block !important;position: relative;}#sk-e192f86c-5853-4bf5-a7b7-31c4bde1b0c7 div.sk-text-repr-fallback {display: none;}</style><div id=\"sk-e192f86c-5853-4bf5-a7b7-31c4bde1b0c7\" class=\"sk-top-container\"><div class=\"sk-text-repr-fallback\"><pre>Pipeline(steps=[(&#x27;columntransformer&#x27;,\n",
              "                 ColumnTransformer(transformers=[(&#x27;pipeline-1&#x27;,\n",
              "                                                  Pipeline(steps=[(&#x27;simpleimputer&#x27;,\n",
              "                                                                   SimpleImputer(strategy=&#x27;most_frequent&#x27;)),\n",
              "                                                                  (&#x27;ordinalencoder&#x27;,\n",
              "                                                                   OrdinalEncoder(categories=[[&#x27;Small&#x27;,\n",
              "                                                                                               &#x27;Medium&#x27;,\n",
              "                                                                                               &#x27;High&#x27;],\n",
              "                                                                                              [&#x27;Tier &#x27;\n",
              "                                                                                               &#x27;1&#x27;,\n",
              "                                                                                               &#x27;Tier &#x27;\n",
              "                                                                                               &#x27;2&#x27;,\n",
              "                                                                                               &#x27;Tier &#x27;\n",
              "                                                                                               &#x27;3&#x27;]]))]),\n",
              "                                                  [&#x27;Outlet_Size&#x27;,\n",
              "                                                   &#x27;Outlet_Location_Type&#x27;]),\n",
              "                                                 (&#x27;pipeline-2&#x27;,\n",
              "                                                  Pipeline(steps=[(&#x27;simpleimputer...\n",
              "                                                  [&#x27;Item_Weight&#x27;,\n",
              "                                                   &#x27;Outlet_Establishment_Year&#x27;,\n",
              "                                                   &#x27;Item_Visibility&#x27;,\n",
              "                                                   &#x27;Item_MRP&#x27;]),\n",
              "                                                 (&#x27;pipeline-3&#x27;,\n",
              "                                                  Pipeline(steps=[(&#x27;simpleimputer&#x27;,\n",
              "                                                                   SimpleImputer(fill_value=&#x27;missing&#x27;,\n",
              "                                                                                 strategy=&#x27;constant&#x27;)),\n",
              "                                                                  (&#x27;onehotencoder&#x27;,\n",
              "                                                                   OneHotEncoder(handle_unknown=&#x27;ignore&#x27;,\n",
              "                                                                                 sparse=False))]),\n",
              "                                                  [&#x27;Item_Fat_Content&#x27;,\n",
              "                                                   &#x27;Outlet_Type&#x27;,\n",
              "                                                   &#x27;Item_Fat_Content&#x27;,\n",
              "                                                   &#x27;Item_Type&#x27;])])),\n",
              "                (&#x27;linearregression&#x27;, LinearRegression())])</pre><b>Please rerun this cell to show the HTML repr or trust the notebook.</b></div><div class=\"sk-container\" hidden><div class=\"sk-item sk-dashed-wrapped\"><div class=\"sk-label-container\"><div class=\"sk-label sk-toggleable\"><input class=\"sk-toggleable__control sk-hidden--visually\" id=\"d2748599-ff36-4d19-a069-78eaf81eb881\" type=\"checkbox\" ><label for=\"d2748599-ff36-4d19-a069-78eaf81eb881\" class=\"sk-toggleable__label sk-toggleable__label-arrow\">Pipeline</label><div class=\"sk-toggleable__content\"><pre>Pipeline(steps=[(&#x27;columntransformer&#x27;,\n",
              "                 ColumnTransformer(transformers=[(&#x27;pipeline-1&#x27;,\n",
              "                                                  Pipeline(steps=[(&#x27;simpleimputer&#x27;,\n",
              "                                                                   SimpleImputer(strategy=&#x27;most_frequent&#x27;)),\n",
              "                                                                  (&#x27;ordinalencoder&#x27;,\n",
              "                                                                   OrdinalEncoder(categories=[[&#x27;Small&#x27;,\n",
              "                                                                                               &#x27;Medium&#x27;,\n",
              "                                                                                               &#x27;High&#x27;],\n",
              "                                                                                              [&#x27;Tier &#x27;\n",
              "                                                                                               &#x27;1&#x27;,\n",
              "                                                                                               &#x27;Tier &#x27;\n",
              "                                                                                               &#x27;2&#x27;,\n",
              "                                                                                               &#x27;Tier &#x27;\n",
              "                                                                                               &#x27;3&#x27;]]))]),\n",
              "                                                  [&#x27;Outlet_Size&#x27;,\n",
              "                                                   &#x27;Outlet_Location_Type&#x27;]),\n",
              "                                                 (&#x27;pipeline-2&#x27;,\n",
              "                                                  Pipeline(steps=[(&#x27;simpleimputer...\n",
              "                                                  [&#x27;Item_Weight&#x27;,\n",
              "                                                   &#x27;Outlet_Establishment_Year&#x27;,\n",
              "                                                   &#x27;Item_Visibility&#x27;,\n",
              "                                                   &#x27;Item_MRP&#x27;]),\n",
              "                                                 (&#x27;pipeline-3&#x27;,\n",
              "                                                  Pipeline(steps=[(&#x27;simpleimputer&#x27;,\n",
              "                                                                   SimpleImputer(fill_value=&#x27;missing&#x27;,\n",
              "                                                                                 strategy=&#x27;constant&#x27;)),\n",
              "                                                                  (&#x27;onehotencoder&#x27;,\n",
              "                                                                   OneHotEncoder(handle_unknown=&#x27;ignore&#x27;,\n",
              "                                                                                 sparse=False))]),\n",
              "                                                  [&#x27;Item_Fat_Content&#x27;,\n",
              "                                                   &#x27;Outlet_Type&#x27;,\n",
              "                                                   &#x27;Item_Fat_Content&#x27;,\n",
              "                                                   &#x27;Item_Type&#x27;])])),\n",
              "                (&#x27;linearregression&#x27;, LinearRegression())])</pre></div></div></div><div class=\"sk-serial\"><div class=\"sk-item sk-dashed-wrapped\"><div class=\"sk-label-container\"><div class=\"sk-label sk-toggleable\"><input class=\"sk-toggleable__control sk-hidden--visually\" id=\"244933dc-6725-4822-b2a9-331482a4fe24\" type=\"checkbox\" ><label for=\"244933dc-6725-4822-b2a9-331482a4fe24\" class=\"sk-toggleable__label sk-toggleable__label-arrow\">columntransformer: ColumnTransformer</label><div class=\"sk-toggleable__content\"><pre>ColumnTransformer(transformers=[(&#x27;pipeline-1&#x27;,\n",
              "                                 Pipeline(steps=[(&#x27;simpleimputer&#x27;,\n",
              "                                                  SimpleImputer(strategy=&#x27;most_frequent&#x27;)),\n",
              "                                                 (&#x27;ordinalencoder&#x27;,\n",
              "                                                  OrdinalEncoder(categories=[[&#x27;Small&#x27;,\n",
              "                                                                              &#x27;Medium&#x27;,\n",
              "                                                                              &#x27;High&#x27;],\n",
              "                                                                             [&#x27;Tier &#x27;\n",
              "                                                                              &#x27;1&#x27;,\n",
              "                                                                              &#x27;Tier &#x27;\n",
              "                                                                              &#x27;2&#x27;,\n",
              "                                                                              &#x27;Tier &#x27;\n",
              "                                                                              &#x27;3&#x27;]]))]),\n",
              "                                 [&#x27;Outlet_Size&#x27;, &#x27;Outlet_Location_Type&#x27;]),\n",
              "                                (&#x27;pipeline-2&#x27;,\n",
              "                                 Pipeline(steps=[(&#x27;simpleimputer&#x27;,\n",
              "                                                  SimpleImputer()),\n",
              "                                                 (&#x27;standardscaler&#x27;,\n",
              "                                                  StandardScaler())]),\n",
              "                                 [&#x27;Item_Weight&#x27;, &#x27;Outlet_Establishment_Year&#x27;,\n",
              "                                  &#x27;Item_Visibility&#x27;, &#x27;Item_MRP&#x27;]),\n",
              "                                (&#x27;pipeline-3&#x27;,\n",
              "                                 Pipeline(steps=[(&#x27;simpleimputer&#x27;,\n",
              "                                                  SimpleImputer(fill_value=&#x27;missing&#x27;,\n",
              "                                                                strategy=&#x27;constant&#x27;)),\n",
              "                                                 (&#x27;onehotencoder&#x27;,\n",
              "                                                  OneHotEncoder(handle_unknown=&#x27;ignore&#x27;,\n",
              "                                                                sparse=False))]),\n",
              "                                 [&#x27;Item_Fat_Content&#x27;, &#x27;Outlet_Type&#x27;,\n",
              "                                  &#x27;Item_Fat_Content&#x27;, &#x27;Item_Type&#x27;])])</pre></div></div></div><div class=\"sk-parallel\"><div class=\"sk-parallel-item\"><div class=\"sk-item\"><div class=\"sk-label-container\"><div class=\"sk-label sk-toggleable\"><input class=\"sk-toggleable__control sk-hidden--visually\" id=\"457e829b-0887-40d8-8a12-f825d46f79db\" type=\"checkbox\" ><label for=\"457e829b-0887-40d8-8a12-f825d46f79db\" class=\"sk-toggleable__label sk-toggleable__label-arrow\">pipeline-1</label><div class=\"sk-toggleable__content\"><pre>[&#x27;Outlet_Size&#x27;, &#x27;Outlet_Location_Type&#x27;]</pre></div></div></div><div class=\"sk-serial\"><div class=\"sk-item\"><div class=\"sk-serial\"><div class=\"sk-item\"><div class=\"sk-estimator sk-toggleable\"><input class=\"sk-toggleable__control sk-hidden--visually\" id=\"d7ff2e00-a5eb-4bb1-b403-63ef35f3cd1d\" type=\"checkbox\" ><label for=\"d7ff2e00-a5eb-4bb1-b403-63ef35f3cd1d\" class=\"sk-toggleable__label sk-toggleable__label-arrow\">SimpleImputer</label><div class=\"sk-toggleable__content\"><pre>SimpleImputer(strategy=&#x27;most_frequent&#x27;)</pre></div></div></div><div class=\"sk-item\"><div class=\"sk-estimator sk-toggleable\"><input class=\"sk-toggleable__control sk-hidden--visually\" id=\"bcfb90a0-a463-43e7-bc7c-629d62096fdf\" type=\"checkbox\" ><label for=\"bcfb90a0-a463-43e7-bc7c-629d62096fdf\" class=\"sk-toggleable__label sk-toggleable__label-arrow\">OrdinalEncoder</label><div class=\"sk-toggleable__content\"><pre>OrdinalEncoder(categories=[[&#x27;Small&#x27;, &#x27;Medium&#x27;, &#x27;High&#x27;],\n",
              "                           [&#x27;Tier 1&#x27;, &#x27;Tier 2&#x27;, &#x27;Tier 3&#x27;]])</pre></div></div></div></div></div></div></div></div><div class=\"sk-parallel-item\"><div class=\"sk-item\"><div class=\"sk-label-container\"><div class=\"sk-label sk-toggleable\"><input class=\"sk-toggleable__control sk-hidden--visually\" id=\"c0779eeb-b35e-4adc-bffd-31bcf0f2a8f5\" type=\"checkbox\" ><label for=\"c0779eeb-b35e-4adc-bffd-31bcf0f2a8f5\" class=\"sk-toggleable__label sk-toggleable__label-arrow\">pipeline-2</label><div class=\"sk-toggleable__content\"><pre>[&#x27;Item_Weight&#x27;, &#x27;Outlet_Establishment_Year&#x27;, &#x27;Item_Visibility&#x27;, &#x27;Item_MRP&#x27;]</pre></div></div></div><div class=\"sk-serial\"><div class=\"sk-item\"><div class=\"sk-serial\"><div class=\"sk-item\"><div class=\"sk-estimator sk-toggleable\"><input class=\"sk-toggleable__control sk-hidden--visually\" id=\"beb4e4d0-b823-4577-90bc-27cfd29f4648\" type=\"checkbox\" ><label for=\"beb4e4d0-b823-4577-90bc-27cfd29f4648\" class=\"sk-toggleable__label sk-toggleable__label-arrow\">SimpleImputer</label><div class=\"sk-toggleable__content\"><pre>SimpleImputer()</pre></div></div></div><div class=\"sk-item\"><div class=\"sk-estimator sk-toggleable\"><input class=\"sk-toggleable__control sk-hidden--visually\" id=\"a5147981-30a8-46e2-b035-8b93d62c08eb\" type=\"checkbox\" ><label for=\"a5147981-30a8-46e2-b035-8b93d62c08eb\" class=\"sk-toggleable__label sk-toggleable__label-arrow\">StandardScaler</label><div class=\"sk-toggleable__content\"><pre>StandardScaler()</pre></div></div></div></div></div></div></div></div><div class=\"sk-parallel-item\"><div class=\"sk-item\"><div class=\"sk-label-container\"><div class=\"sk-label sk-toggleable\"><input class=\"sk-toggleable__control sk-hidden--visually\" id=\"1be93ba4-ec7f-4205-b0bb-f97c5766d735\" type=\"checkbox\" ><label for=\"1be93ba4-ec7f-4205-b0bb-f97c5766d735\" class=\"sk-toggleable__label sk-toggleable__label-arrow\">pipeline-3</label><div class=\"sk-toggleable__content\"><pre>[&#x27;Item_Fat_Content&#x27;, &#x27;Outlet_Type&#x27;, &#x27;Item_Fat_Content&#x27;, &#x27;Item_Type&#x27;]</pre></div></div></div><div class=\"sk-serial\"><div class=\"sk-item\"><div class=\"sk-serial\"><div class=\"sk-item\"><div class=\"sk-estimator sk-toggleable\"><input class=\"sk-toggleable__control sk-hidden--visually\" id=\"2086e020-59d9-44a3-9590-7043f4d32387\" type=\"checkbox\" ><label for=\"2086e020-59d9-44a3-9590-7043f4d32387\" class=\"sk-toggleable__label sk-toggleable__label-arrow\">SimpleImputer</label><div class=\"sk-toggleable__content\"><pre>SimpleImputer(fill_value=&#x27;missing&#x27;, strategy=&#x27;constant&#x27;)</pre></div></div></div><div class=\"sk-item\"><div class=\"sk-estimator sk-toggleable\"><input class=\"sk-toggleable__control sk-hidden--visually\" id=\"3399dfeb-7ffe-4536-b76a-88dfbfac36ac\" type=\"checkbox\" ><label for=\"3399dfeb-7ffe-4536-b76a-88dfbfac36ac\" class=\"sk-toggleable__label sk-toggleable__label-arrow\">OneHotEncoder</label><div class=\"sk-toggleable__content\"><pre>OneHotEncoder(handle_unknown=&#x27;ignore&#x27;, sparse=False)</pre></div></div></div></div></div></div></div></div></div></div><div class=\"sk-item\"><div class=\"sk-estimator sk-toggleable\"><input class=\"sk-toggleable__control sk-hidden--visually\" id=\"3df92823-1986-4fcc-b664-e6831f51c62a\" type=\"checkbox\" ><label for=\"3df92823-1986-4fcc-b664-e6831f51c62a\" class=\"sk-toggleable__label sk-toggleable__label-arrow\">LinearRegression</label><div class=\"sk-toggleable__content\"><pre>LinearRegression()</pre></div></div></div></div></div></div></div>"
            ]
          },
          "metadata": {},
          "execution_count": 36
        }
      ]
    },
    {
      "cell_type": "code",
      "source": [
        "## Predictions \n",
        "regression_train = regression_pipeline.predict(X_train)\n",
        "regression_test = regression_pipeline.predict(X_test)"
      ],
      "metadata": {
        "id": "RCElBCm7SvB-"
      },
      "execution_count": 37,
      "outputs": []
    },
    {
      "cell_type": "code",
      "source": [
        "## Finding the RMSE\n",
        "train_MSE = mean_squared_error(y_train, regression_train) \n",
        "test_MSE = mean_squared_error(y_test, regression_test)\n",
        "\n",
        "train_RMSE = np.sqrt(train_MSE) \n",
        "test_RMSE = np.sqrt(test_MSE)\n",
        "print(f'Model Training RMSE is: {train_RMSE}')\n",
        "print(f'Model Testing RMSE is: {test_RMSE}')"
      ],
      "metadata": {
        "id": "BK96zh7-Sv7W",
        "colab": {
          "base_uri": "https://localhost:8080/"
        },
        "outputId": "f656c491-4c12-46fc-d55c-ec9e0c35fb0c"
      },
      "execution_count": 38,
      "outputs": [
        {
          "output_type": "stream",
          "name": "stdout",
          "text": [
            "Model Training RMSE is: 1151.4242544533367\n",
            "Model Testing RMSE is: 1105.2688777989265\n"
          ]
        }
      ]
    },
    {
      "cell_type": "code",
      "source": [
        "## Finding the r^2 value\n",
        "train_r2 = r2_score(y_train, regression_train)\n",
        "test_r2 = r2_score(y_test, regression_test)\n",
        "print(f'Model Training r2 is: {train_r2}')\n",
        "print(f'Model Testing r2 is: {test_r2}')"
      ],
      "metadata": {
        "id": "Q956NrpgSxGX",
        "colab": {
          "base_uri": "https://localhost:8080/"
        },
        "outputId": "8bc68a98-2c69-42a4-da11-8878c6dc92d2"
      },
      "execution_count": 39,
      "outputs": [
        {
          "output_type": "stream",
          "name": "stdout",
          "text": [
            "Model Training r2 is: 0.5520197137211369\n",
            "Model Testing r2 is: 0.5572202433017971\n"
          ]
        }
      ]
    },
    {
      "cell_type": "markdown",
      "source": [
        "---\n",
        "## Liner Regression Results\n",
        "\n",
        "The model had extremely low variance, but unfortunately didn’t have low enough bias to be effective for making predictions. The results are likely overfitted and the model needs to introduce more variation in order to improve bias. \n",
        "\n",
        "---"
      ],
      "metadata": {
        "id": "gDtF4kJOSyEP"
      }
    },
    {
      "cell_type": "code",
      "source": [
        "## Creating a decision tree model\n",
        "dec_tree = DecisionTreeRegressor(max_depth = None, random_state = 42)\n",
        "dec_tree_pipe = make_pipeline(preprocessor, dec_tree)\n",
        "dec_tree_pipe.fit(X_train, y_train)"
      ],
      "metadata": {
        "id": "l8d-ewn9Syl4",
        "colab": {
          "base_uri": "https://localhost:8080/",
          "height": 227
        },
        "outputId": "19c15008-f16d-4032-f498-e7919c6fee58"
      },
      "execution_count": 40,
      "outputs": [
        {
          "output_type": "execute_result",
          "data": {
            "text/plain": [
              "Pipeline(steps=[('columntransformer',\n",
              "                 ColumnTransformer(transformers=[('pipeline-1',\n",
              "                                                  Pipeline(steps=[('simpleimputer',\n",
              "                                                                   SimpleImputer(strategy='most_frequent')),\n",
              "                                                                  ('ordinalencoder',\n",
              "                                                                   OrdinalEncoder(categories=[['Small',\n",
              "                                                                                               'Medium',\n",
              "                                                                                               'High'],\n",
              "                                                                                              ['Tier '\n",
              "                                                                                               '1',\n",
              "                                                                                               'Tier '\n",
              "                                                                                               '2',\n",
              "                                                                                               'Tier '\n",
              "                                                                                               '3']]))]),\n",
              "                                                  ['Outlet_Size',\n",
              "                                                   'Outlet_Location_Type']),\n",
              "                                                 ('pipeline-2',\n",
              "                                                  Pipeline(steps=[('simpleimputer...\n",
              "                                                   'Outlet_Establishment_Year',\n",
              "                                                   'Item_Visibility',\n",
              "                                                   'Item_MRP']),\n",
              "                                                 ('pipeline-3',\n",
              "                                                  Pipeline(steps=[('simpleimputer',\n",
              "                                                                   SimpleImputer(fill_value='missing',\n",
              "                                                                                 strategy='constant')),\n",
              "                                                                  ('onehotencoder',\n",
              "                                                                   OneHotEncoder(handle_unknown='ignore',\n",
              "                                                                                 sparse=False))]),\n",
              "                                                  ['Item_Fat_Content',\n",
              "                                                   'Outlet_Type',\n",
              "                                                   'Item_Fat_Content',\n",
              "                                                   'Item_Type'])])),\n",
              "                ('decisiontreeregressor',\n",
              "                 DecisionTreeRegressor(random_state=42))])"
            ],
            "text/html": [
              "<style>#sk-904ff18b-cf31-4c8f-9d56-11ed32f6a238 {color: black;background-color: white;}#sk-904ff18b-cf31-4c8f-9d56-11ed32f6a238 pre{padding: 0;}#sk-904ff18b-cf31-4c8f-9d56-11ed32f6a238 div.sk-toggleable {background-color: white;}#sk-904ff18b-cf31-4c8f-9d56-11ed32f6a238 label.sk-toggleable__label {cursor: pointer;display: block;width: 100%;margin-bottom: 0;padding: 0.3em;box-sizing: border-box;text-align: center;}#sk-904ff18b-cf31-4c8f-9d56-11ed32f6a238 label.sk-toggleable__label-arrow:before {content: \"▸\";float: left;margin-right: 0.25em;color: #696969;}#sk-904ff18b-cf31-4c8f-9d56-11ed32f6a238 label.sk-toggleable__label-arrow:hover:before {color: black;}#sk-904ff18b-cf31-4c8f-9d56-11ed32f6a238 div.sk-estimator:hover label.sk-toggleable__label-arrow:before {color: black;}#sk-904ff18b-cf31-4c8f-9d56-11ed32f6a238 div.sk-toggleable__content {max-height: 0;max-width: 0;overflow: hidden;text-align: left;background-color: #f0f8ff;}#sk-904ff18b-cf31-4c8f-9d56-11ed32f6a238 div.sk-toggleable__content pre {margin: 0.2em;color: black;border-radius: 0.25em;background-color: #f0f8ff;}#sk-904ff18b-cf31-4c8f-9d56-11ed32f6a238 input.sk-toggleable__control:checked~div.sk-toggleable__content {max-height: 200px;max-width: 100%;overflow: auto;}#sk-904ff18b-cf31-4c8f-9d56-11ed32f6a238 input.sk-toggleable__control:checked~label.sk-toggleable__label-arrow:before {content: \"▾\";}#sk-904ff18b-cf31-4c8f-9d56-11ed32f6a238 div.sk-estimator input.sk-toggleable__control:checked~label.sk-toggleable__label {background-color: #d4ebff;}#sk-904ff18b-cf31-4c8f-9d56-11ed32f6a238 div.sk-label input.sk-toggleable__control:checked~label.sk-toggleable__label {background-color: #d4ebff;}#sk-904ff18b-cf31-4c8f-9d56-11ed32f6a238 input.sk-hidden--visually {border: 0;clip: rect(1px 1px 1px 1px);clip: rect(1px, 1px, 1px, 1px);height: 1px;margin: -1px;overflow: hidden;padding: 0;position: absolute;width: 1px;}#sk-904ff18b-cf31-4c8f-9d56-11ed32f6a238 div.sk-estimator {font-family: monospace;background-color: #f0f8ff;border: 1px dotted black;border-radius: 0.25em;box-sizing: border-box;margin-bottom: 0.5em;}#sk-904ff18b-cf31-4c8f-9d56-11ed32f6a238 div.sk-estimator:hover {background-color: #d4ebff;}#sk-904ff18b-cf31-4c8f-9d56-11ed32f6a238 div.sk-parallel-item::after {content: \"\";width: 100%;border-bottom: 1px solid gray;flex-grow: 1;}#sk-904ff18b-cf31-4c8f-9d56-11ed32f6a238 div.sk-label:hover label.sk-toggleable__label {background-color: #d4ebff;}#sk-904ff18b-cf31-4c8f-9d56-11ed32f6a238 div.sk-serial::before {content: \"\";position: absolute;border-left: 1px solid gray;box-sizing: border-box;top: 2em;bottom: 0;left: 50%;}#sk-904ff18b-cf31-4c8f-9d56-11ed32f6a238 div.sk-serial {display: flex;flex-direction: column;align-items: center;background-color: white;padding-right: 0.2em;padding-left: 0.2em;}#sk-904ff18b-cf31-4c8f-9d56-11ed32f6a238 div.sk-item {z-index: 1;}#sk-904ff18b-cf31-4c8f-9d56-11ed32f6a238 div.sk-parallel {display: flex;align-items: stretch;justify-content: center;background-color: white;}#sk-904ff18b-cf31-4c8f-9d56-11ed32f6a238 div.sk-parallel::before {content: \"\";position: absolute;border-left: 1px solid gray;box-sizing: border-box;top: 2em;bottom: 0;left: 50%;}#sk-904ff18b-cf31-4c8f-9d56-11ed32f6a238 div.sk-parallel-item {display: flex;flex-direction: column;position: relative;background-color: white;}#sk-904ff18b-cf31-4c8f-9d56-11ed32f6a238 div.sk-parallel-item:first-child::after {align-self: flex-end;width: 50%;}#sk-904ff18b-cf31-4c8f-9d56-11ed32f6a238 div.sk-parallel-item:last-child::after {align-self: flex-start;width: 50%;}#sk-904ff18b-cf31-4c8f-9d56-11ed32f6a238 div.sk-parallel-item:only-child::after {width: 0;}#sk-904ff18b-cf31-4c8f-9d56-11ed32f6a238 div.sk-dashed-wrapped {border: 1px dashed gray;margin: 0 0.4em 0.5em 0.4em;box-sizing: border-box;padding-bottom: 0.4em;background-color: white;position: relative;}#sk-904ff18b-cf31-4c8f-9d56-11ed32f6a238 div.sk-label label {font-family: monospace;font-weight: bold;background-color: white;display: inline-block;line-height: 1.2em;}#sk-904ff18b-cf31-4c8f-9d56-11ed32f6a238 div.sk-label-container {position: relative;z-index: 2;text-align: center;}#sk-904ff18b-cf31-4c8f-9d56-11ed32f6a238 div.sk-container {/* jupyter's `normalize.less` sets `[hidden] { display: none; }` but bootstrap.min.css set `[hidden] { display: none !important; }` so we also need the `!important` here to be able to override the default hidden behavior on the sphinx rendered scikit-learn.org. See: https://github.com/scikit-learn/scikit-learn/issues/21755 */display: inline-block !important;position: relative;}#sk-904ff18b-cf31-4c8f-9d56-11ed32f6a238 div.sk-text-repr-fallback {display: none;}</style><div id=\"sk-904ff18b-cf31-4c8f-9d56-11ed32f6a238\" class=\"sk-top-container\"><div class=\"sk-text-repr-fallback\"><pre>Pipeline(steps=[(&#x27;columntransformer&#x27;,\n",
              "                 ColumnTransformer(transformers=[(&#x27;pipeline-1&#x27;,\n",
              "                                                  Pipeline(steps=[(&#x27;simpleimputer&#x27;,\n",
              "                                                                   SimpleImputer(strategy=&#x27;most_frequent&#x27;)),\n",
              "                                                                  (&#x27;ordinalencoder&#x27;,\n",
              "                                                                   OrdinalEncoder(categories=[[&#x27;Small&#x27;,\n",
              "                                                                                               &#x27;Medium&#x27;,\n",
              "                                                                                               &#x27;High&#x27;],\n",
              "                                                                                              [&#x27;Tier &#x27;\n",
              "                                                                                               &#x27;1&#x27;,\n",
              "                                                                                               &#x27;Tier &#x27;\n",
              "                                                                                               &#x27;2&#x27;,\n",
              "                                                                                               &#x27;Tier &#x27;\n",
              "                                                                                               &#x27;3&#x27;]]))]),\n",
              "                                                  [&#x27;Outlet_Size&#x27;,\n",
              "                                                   &#x27;Outlet_Location_Type&#x27;]),\n",
              "                                                 (&#x27;pipeline-2&#x27;,\n",
              "                                                  Pipeline(steps=[(&#x27;simpleimputer...\n",
              "                                                   &#x27;Outlet_Establishment_Year&#x27;,\n",
              "                                                   &#x27;Item_Visibility&#x27;,\n",
              "                                                   &#x27;Item_MRP&#x27;]),\n",
              "                                                 (&#x27;pipeline-3&#x27;,\n",
              "                                                  Pipeline(steps=[(&#x27;simpleimputer&#x27;,\n",
              "                                                                   SimpleImputer(fill_value=&#x27;missing&#x27;,\n",
              "                                                                                 strategy=&#x27;constant&#x27;)),\n",
              "                                                                  (&#x27;onehotencoder&#x27;,\n",
              "                                                                   OneHotEncoder(handle_unknown=&#x27;ignore&#x27;,\n",
              "                                                                                 sparse=False))]),\n",
              "                                                  [&#x27;Item_Fat_Content&#x27;,\n",
              "                                                   &#x27;Outlet_Type&#x27;,\n",
              "                                                   &#x27;Item_Fat_Content&#x27;,\n",
              "                                                   &#x27;Item_Type&#x27;])])),\n",
              "                (&#x27;decisiontreeregressor&#x27;,\n",
              "                 DecisionTreeRegressor(random_state=42))])</pre><b>Please rerun this cell to show the HTML repr or trust the notebook.</b></div><div class=\"sk-container\" hidden><div class=\"sk-item sk-dashed-wrapped\"><div class=\"sk-label-container\"><div class=\"sk-label sk-toggleable\"><input class=\"sk-toggleable__control sk-hidden--visually\" id=\"592f1be9-ac25-42be-89b1-c338a8806637\" type=\"checkbox\" ><label for=\"592f1be9-ac25-42be-89b1-c338a8806637\" class=\"sk-toggleable__label sk-toggleable__label-arrow\">Pipeline</label><div class=\"sk-toggleable__content\"><pre>Pipeline(steps=[(&#x27;columntransformer&#x27;,\n",
              "                 ColumnTransformer(transformers=[(&#x27;pipeline-1&#x27;,\n",
              "                                                  Pipeline(steps=[(&#x27;simpleimputer&#x27;,\n",
              "                                                                   SimpleImputer(strategy=&#x27;most_frequent&#x27;)),\n",
              "                                                                  (&#x27;ordinalencoder&#x27;,\n",
              "                                                                   OrdinalEncoder(categories=[[&#x27;Small&#x27;,\n",
              "                                                                                               &#x27;Medium&#x27;,\n",
              "                                                                                               &#x27;High&#x27;],\n",
              "                                                                                              [&#x27;Tier &#x27;\n",
              "                                                                                               &#x27;1&#x27;,\n",
              "                                                                                               &#x27;Tier &#x27;\n",
              "                                                                                               &#x27;2&#x27;,\n",
              "                                                                                               &#x27;Tier &#x27;\n",
              "                                                                                               &#x27;3&#x27;]]))]),\n",
              "                                                  [&#x27;Outlet_Size&#x27;,\n",
              "                                                   &#x27;Outlet_Location_Type&#x27;]),\n",
              "                                                 (&#x27;pipeline-2&#x27;,\n",
              "                                                  Pipeline(steps=[(&#x27;simpleimputer...\n",
              "                                                   &#x27;Outlet_Establishment_Year&#x27;,\n",
              "                                                   &#x27;Item_Visibility&#x27;,\n",
              "                                                   &#x27;Item_MRP&#x27;]),\n",
              "                                                 (&#x27;pipeline-3&#x27;,\n",
              "                                                  Pipeline(steps=[(&#x27;simpleimputer&#x27;,\n",
              "                                                                   SimpleImputer(fill_value=&#x27;missing&#x27;,\n",
              "                                                                                 strategy=&#x27;constant&#x27;)),\n",
              "                                                                  (&#x27;onehotencoder&#x27;,\n",
              "                                                                   OneHotEncoder(handle_unknown=&#x27;ignore&#x27;,\n",
              "                                                                                 sparse=False))]),\n",
              "                                                  [&#x27;Item_Fat_Content&#x27;,\n",
              "                                                   &#x27;Outlet_Type&#x27;,\n",
              "                                                   &#x27;Item_Fat_Content&#x27;,\n",
              "                                                   &#x27;Item_Type&#x27;])])),\n",
              "                (&#x27;decisiontreeregressor&#x27;,\n",
              "                 DecisionTreeRegressor(random_state=42))])</pre></div></div></div><div class=\"sk-serial\"><div class=\"sk-item sk-dashed-wrapped\"><div class=\"sk-label-container\"><div class=\"sk-label sk-toggleable\"><input class=\"sk-toggleable__control sk-hidden--visually\" id=\"7ef3c68c-d695-4872-85d5-1b382041826d\" type=\"checkbox\" ><label for=\"7ef3c68c-d695-4872-85d5-1b382041826d\" class=\"sk-toggleable__label sk-toggleable__label-arrow\">columntransformer: ColumnTransformer</label><div class=\"sk-toggleable__content\"><pre>ColumnTransformer(transformers=[(&#x27;pipeline-1&#x27;,\n",
              "                                 Pipeline(steps=[(&#x27;simpleimputer&#x27;,\n",
              "                                                  SimpleImputer(strategy=&#x27;most_frequent&#x27;)),\n",
              "                                                 (&#x27;ordinalencoder&#x27;,\n",
              "                                                  OrdinalEncoder(categories=[[&#x27;Small&#x27;,\n",
              "                                                                              &#x27;Medium&#x27;,\n",
              "                                                                              &#x27;High&#x27;],\n",
              "                                                                             [&#x27;Tier &#x27;\n",
              "                                                                              &#x27;1&#x27;,\n",
              "                                                                              &#x27;Tier &#x27;\n",
              "                                                                              &#x27;2&#x27;,\n",
              "                                                                              &#x27;Tier &#x27;\n",
              "                                                                              &#x27;3&#x27;]]))]),\n",
              "                                 [&#x27;Outlet_Size&#x27;, &#x27;Outlet_Location_Type&#x27;]),\n",
              "                                (&#x27;pipeline-2&#x27;,\n",
              "                                 Pipeline(steps=[(&#x27;simpleimputer&#x27;,\n",
              "                                                  SimpleImputer()),\n",
              "                                                 (&#x27;standardscaler&#x27;,\n",
              "                                                  StandardScaler())]),\n",
              "                                 [&#x27;Item_Weight&#x27;, &#x27;Outlet_Establishment_Year&#x27;,\n",
              "                                  &#x27;Item_Visibility&#x27;, &#x27;Item_MRP&#x27;]),\n",
              "                                (&#x27;pipeline-3&#x27;,\n",
              "                                 Pipeline(steps=[(&#x27;simpleimputer&#x27;,\n",
              "                                                  SimpleImputer(fill_value=&#x27;missing&#x27;,\n",
              "                                                                strategy=&#x27;constant&#x27;)),\n",
              "                                                 (&#x27;onehotencoder&#x27;,\n",
              "                                                  OneHotEncoder(handle_unknown=&#x27;ignore&#x27;,\n",
              "                                                                sparse=False))]),\n",
              "                                 [&#x27;Item_Fat_Content&#x27;, &#x27;Outlet_Type&#x27;,\n",
              "                                  &#x27;Item_Fat_Content&#x27;, &#x27;Item_Type&#x27;])])</pre></div></div></div><div class=\"sk-parallel\"><div class=\"sk-parallel-item\"><div class=\"sk-item\"><div class=\"sk-label-container\"><div class=\"sk-label sk-toggleable\"><input class=\"sk-toggleable__control sk-hidden--visually\" id=\"3a88e26e-fcb6-4fce-a8f2-b8ce9524bb19\" type=\"checkbox\" ><label for=\"3a88e26e-fcb6-4fce-a8f2-b8ce9524bb19\" class=\"sk-toggleable__label sk-toggleable__label-arrow\">pipeline-1</label><div class=\"sk-toggleable__content\"><pre>[&#x27;Outlet_Size&#x27;, &#x27;Outlet_Location_Type&#x27;]</pre></div></div></div><div class=\"sk-serial\"><div class=\"sk-item\"><div class=\"sk-serial\"><div class=\"sk-item\"><div class=\"sk-estimator sk-toggleable\"><input class=\"sk-toggleable__control sk-hidden--visually\" id=\"4ba849b5-3da4-4054-8ada-4f7a842c04c7\" type=\"checkbox\" ><label for=\"4ba849b5-3da4-4054-8ada-4f7a842c04c7\" class=\"sk-toggleable__label sk-toggleable__label-arrow\">SimpleImputer</label><div class=\"sk-toggleable__content\"><pre>SimpleImputer(strategy=&#x27;most_frequent&#x27;)</pre></div></div></div><div class=\"sk-item\"><div class=\"sk-estimator sk-toggleable\"><input class=\"sk-toggleable__control sk-hidden--visually\" id=\"dce0dae1-26da-4f06-b198-ee706147b6e6\" type=\"checkbox\" ><label for=\"dce0dae1-26da-4f06-b198-ee706147b6e6\" class=\"sk-toggleable__label sk-toggleable__label-arrow\">OrdinalEncoder</label><div class=\"sk-toggleable__content\"><pre>OrdinalEncoder(categories=[[&#x27;Small&#x27;, &#x27;Medium&#x27;, &#x27;High&#x27;],\n",
              "                           [&#x27;Tier 1&#x27;, &#x27;Tier 2&#x27;, &#x27;Tier 3&#x27;]])</pre></div></div></div></div></div></div></div></div><div class=\"sk-parallel-item\"><div class=\"sk-item\"><div class=\"sk-label-container\"><div class=\"sk-label sk-toggleable\"><input class=\"sk-toggleable__control sk-hidden--visually\" id=\"5f8be6ca-8d08-48a4-8fba-827c9d91aa85\" type=\"checkbox\" ><label for=\"5f8be6ca-8d08-48a4-8fba-827c9d91aa85\" class=\"sk-toggleable__label sk-toggleable__label-arrow\">pipeline-2</label><div class=\"sk-toggleable__content\"><pre>[&#x27;Item_Weight&#x27;, &#x27;Outlet_Establishment_Year&#x27;, &#x27;Item_Visibility&#x27;, &#x27;Item_MRP&#x27;]</pre></div></div></div><div class=\"sk-serial\"><div class=\"sk-item\"><div class=\"sk-serial\"><div class=\"sk-item\"><div class=\"sk-estimator sk-toggleable\"><input class=\"sk-toggleable__control sk-hidden--visually\" id=\"0bc172f8-0f6e-4edf-9a0c-4b9292bb2c56\" type=\"checkbox\" ><label for=\"0bc172f8-0f6e-4edf-9a0c-4b9292bb2c56\" class=\"sk-toggleable__label sk-toggleable__label-arrow\">SimpleImputer</label><div class=\"sk-toggleable__content\"><pre>SimpleImputer()</pre></div></div></div><div class=\"sk-item\"><div class=\"sk-estimator sk-toggleable\"><input class=\"sk-toggleable__control sk-hidden--visually\" id=\"ff2fed09-c6c1-462c-a778-44e443ed1b31\" type=\"checkbox\" ><label for=\"ff2fed09-c6c1-462c-a778-44e443ed1b31\" class=\"sk-toggleable__label sk-toggleable__label-arrow\">StandardScaler</label><div class=\"sk-toggleable__content\"><pre>StandardScaler()</pre></div></div></div></div></div></div></div></div><div class=\"sk-parallel-item\"><div class=\"sk-item\"><div class=\"sk-label-container\"><div class=\"sk-label sk-toggleable\"><input class=\"sk-toggleable__control sk-hidden--visually\" id=\"0314a24e-0480-496a-9552-6dc425a320d6\" type=\"checkbox\" ><label for=\"0314a24e-0480-496a-9552-6dc425a320d6\" class=\"sk-toggleable__label sk-toggleable__label-arrow\">pipeline-3</label><div class=\"sk-toggleable__content\"><pre>[&#x27;Item_Fat_Content&#x27;, &#x27;Outlet_Type&#x27;, &#x27;Item_Fat_Content&#x27;, &#x27;Item_Type&#x27;]</pre></div></div></div><div class=\"sk-serial\"><div class=\"sk-item\"><div class=\"sk-serial\"><div class=\"sk-item\"><div class=\"sk-estimator sk-toggleable\"><input class=\"sk-toggleable__control sk-hidden--visually\" id=\"6611b242-961f-41c6-8df5-69e95a7e94cf\" type=\"checkbox\" ><label for=\"6611b242-961f-41c6-8df5-69e95a7e94cf\" class=\"sk-toggleable__label sk-toggleable__label-arrow\">SimpleImputer</label><div class=\"sk-toggleable__content\"><pre>SimpleImputer(fill_value=&#x27;missing&#x27;, strategy=&#x27;constant&#x27;)</pre></div></div></div><div class=\"sk-item\"><div class=\"sk-estimator sk-toggleable\"><input class=\"sk-toggleable__control sk-hidden--visually\" id=\"4c6613ab-ebcb-48bb-952a-b14b8219575e\" type=\"checkbox\" ><label for=\"4c6613ab-ebcb-48bb-952a-b14b8219575e\" class=\"sk-toggleable__label sk-toggleable__label-arrow\">OneHotEncoder</label><div class=\"sk-toggleable__content\"><pre>OneHotEncoder(handle_unknown=&#x27;ignore&#x27;, sparse=False)</pre></div></div></div></div></div></div></div></div></div></div><div class=\"sk-item\"><div class=\"sk-estimator sk-toggleable\"><input class=\"sk-toggleable__control sk-hidden--visually\" id=\"a74cb63f-f670-4f1a-abee-5d793c1a79d0\" type=\"checkbox\" ><label for=\"a74cb63f-f670-4f1a-abee-5d793c1a79d0\" class=\"sk-toggleable__label sk-toggleable__label-arrow\">DecisionTreeRegressor</label><div class=\"sk-toggleable__content\"><pre>DecisionTreeRegressor(random_state=42)</pre></div></div></div></div></div></div></div>"
            ]
          },
          "metadata": {},
          "execution_count": 40
        }
      ]
    },
    {
      "cell_type": "code",
      "source": [
        "## Iterating through models of different depths and adding the test/train results to a new dataframe to find the optimal depth\n",
        "max_depth = dec_tree_pipe['decisiontreeregressor'].get_depth()\n",
        "depths = range(1, max_depth+1)\n",
        "scores = pd.DataFrame(columns=['Train Score', 'Test Score'], index=depths)\n",
        "\n",
        "for depth in depths:\n",
        "\n",
        "  dec_tree = DecisionTreeRegressor(max_depth=depth, random_state = 42)\n",
        "  dec_tree_pipe = make_pipeline(preprocessor, dec_tree)\n",
        "  dec_tree_pipe.fit(X_train, y_train)\n",
        "\n",
        "  train_pred = dec_tree_pipe.predict(X_train)\n",
        "  test_pred = dec_tree_pipe.predict(X_test)\n",
        "\n",
        "  train_r2score = r2_score(y_train, train_pred)\n",
        "  test_r2score = r2_score(y_test, test_pred)\n",
        "\n",
        "  scores.loc[depth, 'Train Score'] = train_r2score\n",
        "  scores.loc[depth, 'Test Score'] = test_r2score"
      ],
      "metadata": {
        "id": "-kfD7pzOS0M-"
      },
      "execution_count": 41,
      "outputs": []
    },
    {
      "cell_type": "code",
      "source": [
        "## Displaying 5 best scores\n",
        "sorted_scores = scores.sort_values(by='Test Score', ascending=False)\n",
        "\n",
        "sorted_scores.head()"
      ],
      "metadata": {
        "id": "ETuHTGsDS25y",
        "colab": {
          "base_uri": "https://localhost:8080/",
          "height": 206
        },
        "outputId": "2ddc2e4e-a34e-424e-cf07-5be8c2deae89"
      },
      "execution_count": 42,
      "outputs": [
        {
          "output_type": "execute_result",
          "data": {
            "text/plain": [
              "  Train Score Test Score\n",
              "5     0.60394    0.59471\n",
              "4    0.582625   0.584005\n",
              "6    0.615072   0.582356\n",
              "7    0.626454   0.576544\n",
              "8    0.642714   0.560843"
            ],
            "text/html": [
              "\n",
              "  <div id=\"df-9f5bfacc-ca74-4020-84b8-2d255b8ee031\">\n",
              "    <div class=\"colab-df-container\">\n",
              "      <div>\n",
              "<style scoped>\n",
              "    .dataframe tbody tr th:only-of-type {\n",
              "        vertical-align: middle;\n",
              "    }\n",
              "\n",
              "    .dataframe tbody tr th {\n",
              "        vertical-align: top;\n",
              "    }\n",
              "\n",
              "    .dataframe thead th {\n",
              "        text-align: right;\n",
              "    }\n",
              "</style>\n",
              "<table border=\"1\" class=\"dataframe\">\n",
              "  <thead>\n",
              "    <tr style=\"text-align: right;\">\n",
              "      <th></th>\n",
              "      <th>Train Score</th>\n",
              "      <th>Test Score</th>\n",
              "    </tr>\n",
              "  </thead>\n",
              "  <tbody>\n",
              "    <tr>\n",
              "      <th>5</th>\n",
              "      <td>0.60394</td>\n",
              "      <td>0.59471</td>\n",
              "    </tr>\n",
              "    <tr>\n",
              "      <th>4</th>\n",
              "      <td>0.582625</td>\n",
              "      <td>0.584005</td>\n",
              "    </tr>\n",
              "    <tr>\n",
              "      <th>6</th>\n",
              "      <td>0.615072</td>\n",
              "      <td>0.582356</td>\n",
              "    </tr>\n",
              "    <tr>\n",
              "      <th>7</th>\n",
              "      <td>0.626454</td>\n",
              "      <td>0.576544</td>\n",
              "    </tr>\n",
              "    <tr>\n",
              "      <th>8</th>\n",
              "      <td>0.642714</td>\n",
              "      <td>0.560843</td>\n",
              "    </tr>\n",
              "  </tbody>\n",
              "</table>\n",
              "</div>\n",
              "      <button class=\"colab-df-convert\" onclick=\"convertToInteractive('df-9f5bfacc-ca74-4020-84b8-2d255b8ee031')\"\n",
              "              title=\"Convert this dataframe to an interactive table.\"\n",
              "              style=\"display:none;\">\n",
              "        \n",
              "  <svg xmlns=\"http://www.w3.org/2000/svg\" height=\"24px\"viewBox=\"0 0 24 24\"\n",
              "       width=\"24px\">\n",
              "    <path d=\"M0 0h24v24H0V0z\" fill=\"none\"/>\n",
              "    <path d=\"M18.56 5.44l.94 2.06.94-2.06 2.06-.94-2.06-.94-.94-2.06-.94 2.06-2.06.94zm-11 1L8.5 8.5l.94-2.06 2.06-.94-2.06-.94L8.5 2.5l-.94 2.06-2.06.94zm10 10l.94 2.06.94-2.06 2.06-.94-2.06-.94-.94-2.06-.94 2.06-2.06.94z\"/><path d=\"M17.41 7.96l-1.37-1.37c-.4-.4-.92-.59-1.43-.59-.52 0-1.04.2-1.43.59L10.3 9.45l-7.72 7.72c-.78.78-.78 2.05 0 2.83L4 21.41c.39.39.9.59 1.41.59.51 0 1.02-.2 1.41-.59l7.78-7.78 2.81-2.81c.8-.78.8-2.07 0-2.86zM5.41 20L4 18.59l7.72-7.72 1.47 1.35L5.41 20z\"/>\n",
              "  </svg>\n",
              "      </button>\n",
              "      \n",
              "  <style>\n",
              "    .colab-df-container {\n",
              "      display:flex;\n",
              "      flex-wrap:wrap;\n",
              "      gap: 12px;\n",
              "    }\n",
              "\n",
              "    .colab-df-convert {\n",
              "      background-color: #E8F0FE;\n",
              "      border: none;\n",
              "      border-radius: 50%;\n",
              "      cursor: pointer;\n",
              "      display: none;\n",
              "      fill: #1967D2;\n",
              "      height: 32px;\n",
              "      padding: 0 0 0 0;\n",
              "      width: 32px;\n",
              "    }\n",
              "\n",
              "    .colab-df-convert:hover {\n",
              "      background-color: #E2EBFA;\n",
              "      box-shadow: 0px 1px 2px rgba(60, 64, 67, 0.3), 0px 1px 3px 1px rgba(60, 64, 67, 0.15);\n",
              "      fill: #174EA6;\n",
              "    }\n",
              "\n",
              "    [theme=dark] .colab-df-convert {\n",
              "      background-color: #3B4455;\n",
              "      fill: #D2E3FC;\n",
              "    }\n",
              "\n",
              "    [theme=dark] .colab-df-convert:hover {\n",
              "      background-color: #434B5C;\n",
              "      box-shadow: 0px 1px 3px 1px rgba(0, 0, 0, 0.15);\n",
              "      filter: drop-shadow(0px 1px 2px rgba(0, 0, 0, 0.3));\n",
              "      fill: #FFFFFF;\n",
              "    }\n",
              "  </style>\n",
              "\n",
              "      <script>\n",
              "        const buttonEl =\n",
              "          document.querySelector('#df-9f5bfacc-ca74-4020-84b8-2d255b8ee031 button.colab-df-convert');\n",
              "        buttonEl.style.display =\n",
              "          google.colab.kernel.accessAllowed ? 'block' : 'none';\n",
              "\n",
              "        async function convertToInteractive(key) {\n",
              "          const element = document.querySelector('#df-9f5bfacc-ca74-4020-84b8-2d255b8ee031');\n",
              "          const dataTable =\n",
              "            await google.colab.kernel.invokeFunction('convertToInteractive',\n",
              "                                                     [key], {});\n",
              "          if (!dataTable) return;\n",
              "\n",
              "          const docLinkHtml = 'Like what you see? Visit the ' +\n",
              "            '<a target=\"_blank\" href=https://colab.research.google.com/notebooks/data_table.ipynb>data table notebook</a>'\n",
              "            + ' to learn more about interactive tables.';\n",
              "          element.innerHTML = '';\n",
              "          dataTable['output_type'] = 'display_data';\n",
              "          await google.colab.output.renderOutput(dataTable, element);\n",
              "          const docLink = document.createElement('div');\n",
              "          docLink.innerHTML = docLinkHtml;\n",
              "          element.appendChild(docLink);\n",
              "        }\n",
              "      </script>\n",
              "    </div>\n",
              "  </div>\n",
              "  "
            ]
          },
          "metadata": {},
          "execution_count": 42
        }
      ]
    },
    {
      "cell_type": "code",
      "source": [
        "## Creating a tuned decision tree model\n",
        "dec_tree_tuned = DecisionTreeRegressor(max_depth = 5, random_state = 42)\n",
        "dec_tree_pipe_tuned = make_pipeline(preprocessor, dec_tree_tuned)\n",
        "dec_tree_pipe_tuned.fit(X_train, y_train)"
      ],
      "metadata": {
        "id": "zrtmGO31TJ6c",
        "colab": {
          "base_uri": "https://localhost:8080/",
          "height": 227
        },
        "outputId": "eeeec3aa-9b87-4812-fb60-19f556c2238f"
      },
      "execution_count": 43,
      "outputs": [
        {
          "output_type": "execute_result",
          "data": {
            "text/plain": [
              "Pipeline(steps=[('columntransformer',\n",
              "                 ColumnTransformer(transformers=[('pipeline-1',\n",
              "                                                  Pipeline(steps=[('simpleimputer',\n",
              "                                                                   SimpleImputer(strategy='most_frequent')),\n",
              "                                                                  ('ordinalencoder',\n",
              "                                                                   OrdinalEncoder(categories=[['Small',\n",
              "                                                                                               'Medium',\n",
              "                                                                                               'High'],\n",
              "                                                                                              ['Tier '\n",
              "                                                                                               '1',\n",
              "                                                                                               'Tier '\n",
              "                                                                                               '2',\n",
              "                                                                                               'Tier '\n",
              "                                                                                               '3']]))]),\n",
              "                                                  ['Outlet_Size',\n",
              "                                                   'Outlet_Location_Type']),\n",
              "                                                 ('pipeline-2',\n",
              "                                                  Pipeline(steps=[('simpleimputer...\n",
              "                                                   'Item_Visibility',\n",
              "                                                   'Item_MRP']),\n",
              "                                                 ('pipeline-3',\n",
              "                                                  Pipeline(steps=[('simpleimputer',\n",
              "                                                                   SimpleImputer(fill_value='missing',\n",
              "                                                                                 strategy='constant')),\n",
              "                                                                  ('onehotencoder',\n",
              "                                                                   OneHotEncoder(handle_unknown='ignore',\n",
              "                                                                                 sparse=False))]),\n",
              "                                                  ['Item_Fat_Content',\n",
              "                                                   'Outlet_Type',\n",
              "                                                   'Item_Fat_Content',\n",
              "                                                   'Item_Type'])])),\n",
              "                ('decisiontreeregressor',\n",
              "                 DecisionTreeRegressor(max_depth=5, random_state=42))])"
            ],
            "text/html": [
              "<style>#sk-d62c7c04-ed41-42ea-887a-1c42fb661427 {color: black;background-color: white;}#sk-d62c7c04-ed41-42ea-887a-1c42fb661427 pre{padding: 0;}#sk-d62c7c04-ed41-42ea-887a-1c42fb661427 div.sk-toggleable {background-color: white;}#sk-d62c7c04-ed41-42ea-887a-1c42fb661427 label.sk-toggleable__label {cursor: pointer;display: block;width: 100%;margin-bottom: 0;padding: 0.3em;box-sizing: border-box;text-align: center;}#sk-d62c7c04-ed41-42ea-887a-1c42fb661427 label.sk-toggleable__label-arrow:before {content: \"▸\";float: left;margin-right: 0.25em;color: #696969;}#sk-d62c7c04-ed41-42ea-887a-1c42fb661427 label.sk-toggleable__label-arrow:hover:before {color: black;}#sk-d62c7c04-ed41-42ea-887a-1c42fb661427 div.sk-estimator:hover label.sk-toggleable__label-arrow:before {color: black;}#sk-d62c7c04-ed41-42ea-887a-1c42fb661427 div.sk-toggleable__content {max-height: 0;max-width: 0;overflow: hidden;text-align: left;background-color: #f0f8ff;}#sk-d62c7c04-ed41-42ea-887a-1c42fb661427 div.sk-toggleable__content pre {margin: 0.2em;color: black;border-radius: 0.25em;background-color: #f0f8ff;}#sk-d62c7c04-ed41-42ea-887a-1c42fb661427 input.sk-toggleable__control:checked~div.sk-toggleable__content {max-height: 200px;max-width: 100%;overflow: auto;}#sk-d62c7c04-ed41-42ea-887a-1c42fb661427 input.sk-toggleable__control:checked~label.sk-toggleable__label-arrow:before {content: \"▾\";}#sk-d62c7c04-ed41-42ea-887a-1c42fb661427 div.sk-estimator input.sk-toggleable__control:checked~label.sk-toggleable__label {background-color: #d4ebff;}#sk-d62c7c04-ed41-42ea-887a-1c42fb661427 div.sk-label input.sk-toggleable__control:checked~label.sk-toggleable__label {background-color: #d4ebff;}#sk-d62c7c04-ed41-42ea-887a-1c42fb661427 input.sk-hidden--visually {border: 0;clip: rect(1px 1px 1px 1px);clip: rect(1px, 1px, 1px, 1px);height: 1px;margin: -1px;overflow: hidden;padding: 0;position: absolute;width: 1px;}#sk-d62c7c04-ed41-42ea-887a-1c42fb661427 div.sk-estimator {font-family: monospace;background-color: #f0f8ff;border: 1px dotted black;border-radius: 0.25em;box-sizing: border-box;margin-bottom: 0.5em;}#sk-d62c7c04-ed41-42ea-887a-1c42fb661427 div.sk-estimator:hover {background-color: #d4ebff;}#sk-d62c7c04-ed41-42ea-887a-1c42fb661427 div.sk-parallel-item::after {content: \"\";width: 100%;border-bottom: 1px solid gray;flex-grow: 1;}#sk-d62c7c04-ed41-42ea-887a-1c42fb661427 div.sk-label:hover label.sk-toggleable__label {background-color: #d4ebff;}#sk-d62c7c04-ed41-42ea-887a-1c42fb661427 div.sk-serial::before {content: \"\";position: absolute;border-left: 1px solid gray;box-sizing: border-box;top: 2em;bottom: 0;left: 50%;}#sk-d62c7c04-ed41-42ea-887a-1c42fb661427 div.sk-serial {display: flex;flex-direction: column;align-items: center;background-color: white;padding-right: 0.2em;padding-left: 0.2em;}#sk-d62c7c04-ed41-42ea-887a-1c42fb661427 div.sk-item {z-index: 1;}#sk-d62c7c04-ed41-42ea-887a-1c42fb661427 div.sk-parallel {display: flex;align-items: stretch;justify-content: center;background-color: white;}#sk-d62c7c04-ed41-42ea-887a-1c42fb661427 div.sk-parallel::before {content: \"\";position: absolute;border-left: 1px solid gray;box-sizing: border-box;top: 2em;bottom: 0;left: 50%;}#sk-d62c7c04-ed41-42ea-887a-1c42fb661427 div.sk-parallel-item {display: flex;flex-direction: column;position: relative;background-color: white;}#sk-d62c7c04-ed41-42ea-887a-1c42fb661427 div.sk-parallel-item:first-child::after {align-self: flex-end;width: 50%;}#sk-d62c7c04-ed41-42ea-887a-1c42fb661427 div.sk-parallel-item:last-child::after {align-self: flex-start;width: 50%;}#sk-d62c7c04-ed41-42ea-887a-1c42fb661427 div.sk-parallel-item:only-child::after {width: 0;}#sk-d62c7c04-ed41-42ea-887a-1c42fb661427 div.sk-dashed-wrapped {border: 1px dashed gray;margin: 0 0.4em 0.5em 0.4em;box-sizing: border-box;padding-bottom: 0.4em;background-color: white;position: relative;}#sk-d62c7c04-ed41-42ea-887a-1c42fb661427 div.sk-label label {font-family: monospace;font-weight: bold;background-color: white;display: inline-block;line-height: 1.2em;}#sk-d62c7c04-ed41-42ea-887a-1c42fb661427 div.sk-label-container {position: relative;z-index: 2;text-align: center;}#sk-d62c7c04-ed41-42ea-887a-1c42fb661427 div.sk-container {/* jupyter's `normalize.less` sets `[hidden] { display: none; }` but bootstrap.min.css set `[hidden] { display: none !important; }` so we also need the `!important` here to be able to override the default hidden behavior on the sphinx rendered scikit-learn.org. See: https://github.com/scikit-learn/scikit-learn/issues/21755 */display: inline-block !important;position: relative;}#sk-d62c7c04-ed41-42ea-887a-1c42fb661427 div.sk-text-repr-fallback {display: none;}</style><div id=\"sk-d62c7c04-ed41-42ea-887a-1c42fb661427\" class=\"sk-top-container\"><div class=\"sk-text-repr-fallback\"><pre>Pipeline(steps=[(&#x27;columntransformer&#x27;,\n",
              "                 ColumnTransformer(transformers=[(&#x27;pipeline-1&#x27;,\n",
              "                                                  Pipeline(steps=[(&#x27;simpleimputer&#x27;,\n",
              "                                                                   SimpleImputer(strategy=&#x27;most_frequent&#x27;)),\n",
              "                                                                  (&#x27;ordinalencoder&#x27;,\n",
              "                                                                   OrdinalEncoder(categories=[[&#x27;Small&#x27;,\n",
              "                                                                                               &#x27;Medium&#x27;,\n",
              "                                                                                               &#x27;High&#x27;],\n",
              "                                                                                              [&#x27;Tier &#x27;\n",
              "                                                                                               &#x27;1&#x27;,\n",
              "                                                                                               &#x27;Tier &#x27;\n",
              "                                                                                               &#x27;2&#x27;,\n",
              "                                                                                               &#x27;Tier &#x27;\n",
              "                                                                                               &#x27;3&#x27;]]))]),\n",
              "                                                  [&#x27;Outlet_Size&#x27;,\n",
              "                                                   &#x27;Outlet_Location_Type&#x27;]),\n",
              "                                                 (&#x27;pipeline-2&#x27;,\n",
              "                                                  Pipeline(steps=[(&#x27;simpleimputer...\n",
              "                                                   &#x27;Item_Visibility&#x27;,\n",
              "                                                   &#x27;Item_MRP&#x27;]),\n",
              "                                                 (&#x27;pipeline-3&#x27;,\n",
              "                                                  Pipeline(steps=[(&#x27;simpleimputer&#x27;,\n",
              "                                                                   SimpleImputer(fill_value=&#x27;missing&#x27;,\n",
              "                                                                                 strategy=&#x27;constant&#x27;)),\n",
              "                                                                  (&#x27;onehotencoder&#x27;,\n",
              "                                                                   OneHotEncoder(handle_unknown=&#x27;ignore&#x27;,\n",
              "                                                                                 sparse=False))]),\n",
              "                                                  [&#x27;Item_Fat_Content&#x27;,\n",
              "                                                   &#x27;Outlet_Type&#x27;,\n",
              "                                                   &#x27;Item_Fat_Content&#x27;,\n",
              "                                                   &#x27;Item_Type&#x27;])])),\n",
              "                (&#x27;decisiontreeregressor&#x27;,\n",
              "                 DecisionTreeRegressor(max_depth=5, random_state=42))])</pre><b>Please rerun this cell to show the HTML repr or trust the notebook.</b></div><div class=\"sk-container\" hidden><div class=\"sk-item sk-dashed-wrapped\"><div class=\"sk-label-container\"><div class=\"sk-label sk-toggleable\"><input class=\"sk-toggleable__control sk-hidden--visually\" id=\"0021ce53-af5b-4017-8380-9a8d18a2ed69\" type=\"checkbox\" ><label for=\"0021ce53-af5b-4017-8380-9a8d18a2ed69\" class=\"sk-toggleable__label sk-toggleable__label-arrow\">Pipeline</label><div class=\"sk-toggleable__content\"><pre>Pipeline(steps=[(&#x27;columntransformer&#x27;,\n",
              "                 ColumnTransformer(transformers=[(&#x27;pipeline-1&#x27;,\n",
              "                                                  Pipeline(steps=[(&#x27;simpleimputer&#x27;,\n",
              "                                                                   SimpleImputer(strategy=&#x27;most_frequent&#x27;)),\n",
              "                                                                  (&#x27;ordinalencoder&#x27;,\n",
              "                                                                   OrdinalEncoder(categories=[[&#x27;Small&#x27;,\n",
              "                                                                                               &#x27;Medium&#x27;,\n",
              "                                                                                               &#x27;High&#x27;],\n",
              "                                                                                              [&#x27;Tier &#x27;\n",
              "                                                                                               &#x27;1&#x27;,\n",
              "                                                                                               &#x27;Tier &#x27;\n",
              "                                                                                               &#x27;2&#x27;,\n",
              "                                                                                               &#x27;Tier &#x27;\n",
              "                                                                                               &#x27;3&#x27;]]))]),\n",
              "                                                  [&#x27;Outlet_Size&#x27;,\n",
              "                                                   &#x27;Outlet_Location_Type&#x27;]),\n",
              "                                                 (&#x27;pipeline-2&#x27;,\n",
              "                                                  Pipeline(steps=[(&#x27;simpleimputer...\n",
              "                                                   &#x27;Item_Visibility&#x27;,\n",
              "                                                   &#x27;Item_MRP&#x27;]),\n",
              "                                                 (&#x27;pipeline-3&#x27;,\n",
              "                                                  Pipeline(steps=[(&#x27;simpleimputer&#x27;,\n",
              "                                                                   SimpleImputer(fill_value=&#x27;missing&#x27;,\n",
              "                                                                                 strategy=&#x27;constant&#x27;)),\n",
              "                                                                  (&#x27;onehotencoder&#x27;,\n",
              "                                                                   OneHotEncoder(handle_unknown=&#x27;ignore&#x27;,\n",
              "                                                                                 sparse=False))]),\n",
              "                                                  [&#x27;Item_Fat_Content&#x27;,\n",
              "                                                   &#x27;Outlet_Type&#x27;,\n",
              "                                                   &#x27;Item_Fat_Content&#x27;,\n",
              "                                                   &#x27;Item_Type&#x27;])])),\n",
              "                (&#x27;decisiontreeregressor&#x27;,\n",
              "                 DecisionTreeRegressor(max_depth=5, random_state=42))])</pre></div></div></div><div class=\"sk-serial\"><div class=\"sk-item sk-dashed-wrapped\"><div class=\"sk-label-container\"><div class=\"sk-label sk-toggleable\"><input class=\"sk-toggleable__control sk-hidden--visually\" id=\"e3fbe56c-719b-49f7-ac99-12311dc66cf3\" type=\"checkbox\" ><label for=\"e3fbe56c-719b-49f7-ac99-12311dc66cf3\" class=\"sk-toggleable__label sk-toggleable__label-arrow\">columntransformer: ColumnTransformer</label><div class=\"sk-toggleable__content\"><pre>ColumnTransformer(transformers=[(&#x27;pipeline-1&#x27;,\n",
              "                                 Pipeline(steps=[(&#x27;simpleimputer&#x27;,\n",
              "                                                  SimpleImputer(strategy=&#x27;most_frequent&#x27;)),\n",
              "                                                 (&#x27;ordinalencoder&#x27;,\n",
              "                                                  OrdinalEncoder(categories=[[&#x27;Small&#x27;,\n",
              "                                                                              &#x27;Medium&#x27;,\n",
              "                                                                              &#x27;High&#x27;],\n",
              "                                                                             [&#x27;Tier &#x27;\n",
              "                                                                              &#x27;1&#x27;,\n",
              "                                                                              &#x27;Tier &#x27;\n",
              "                                                                              &#x27;2&#x27;,\n",
              "                                                                              &#x27;Tier &#x27;\n",
              "                                                                              &#x27;3&#x27;]]))]),\n",
              "                                 [&#x27;Outlet_Size&#x27;, &#x27;Outlet_Location_Type&#x27;]),\n",
              "                                (&#x27;pipeline-2&#x27;,\n",
              "                                 Pipeline(steps=[(&#x27;simpleimputer&#x27;,\n",
              "                                                  SimpleImputer()),\n",
              "                                                 (&#x27;standardscaler&#x27;,\n",
              "                                                  StandardScaler())]),\n",
              "                                 [&#x27;Item_Weight&#x27;, &#x27;Outlet_Establishment_Year&#x27;,\n",
              "                                  &#x27;Item_Visibility&#x27;, &#x27;Item_MRP&#x27;]),\n",
              "                                (&#x27;pipeline-3&#x27;,\n",
              "                                 Pipeline(steps=[(&#x27;simpleimputer&#x27;,\n",
              "                                                  SimpleImputer(fill_value=&#x27;missing&#x27;,\n",
              "                                                                strategy=&#x27;constant&#x27;)),\n",
              "                                                 (&#x27;onehotencoder&#x27;,\n",
              "                                                  OneHotEncoder(handle_unknown=&#x27;ignore&#x27;,\n",
              "                                                                sparse=False))]),\n",
              "                                 [&#x27;Item_Fat_Content&#x27;, &#x27;Outlet_Type&#x27;,\n",
              "                                  &#x27;Item_Fat_Content&#x27;, &#x27;Item_Type&#x27;])])</pre></div></div></div><div class=\"sk-parallel\"><div class=\"sk-parallel-item\"><div class=\"sk-item\"><div class=\"sk-label-container\"><div class=\"sk-label sk-toggleable\"><input class=\"sk-toggleable__control sk-hidden--visually\" id=\"749d50c7-0393-4c39-a843-27c62ab8819a\" type=\"checkbox\" ><label for=\"749d50c7-0393-4c39-a843-27c62ab8819a\" class=\"sk-toggleable__label sk-toggleable__label-arrow\">pipeline-1</label><div class=\"sk-toggleable__content\"><pre>[&#x27;Outlet_Size&#x27;, &#x27;Outlet_Location_Type&#x27;]</pre></div></div></div><div class=\"sk-serial\"><div class=\"sk-item\"><div class=\"sk-serial\"><div class=\"sk-item\"><div class=\"sk-estimator sk-toggleable\"><input class=\"sk-toggleable__control sk-hidden--visually\" id=\"c6fa2c23-9fa2-4996-b43a-fd04ea52c3a6\" type=\"checkbox\" ><label for=\"c6fa2c23-9fa2-4996-b43a-fd04ea52c3a6\" class=\"sk-toggleable__label sk-toggleable__label-arrow\">SimpleImputer</label><div class=\"sk-toggleable__content\"><pre>SimpleImputer(strategy=&#x27;most_frequent&#x27;)</pre></div></div></div><div class=\"sk-item\"><div class=\"sk-estimator sk-toggleable\"><input class=\"sk-toggleable__control sk-hidden--visually\" id=\"0bf75424-04ee-4d94-b682-0c7d93ce0d11\" type=\"checkbox\" ><label for=\"0bf75424-04ee-4d94-b682-0c7d93ce0d11\" class=\"sk-toggleable__label sk-toggleable__label-arrow\">OrdinalEncoder</label><div class=\"sk-toggleable__content\"><pre>OrdinalEncoder(categories=[[&#x27;Small&#x27;, &#x27;Medium&#x27;, &#x27;High&#x27;],\n",
              "                           [&#x27;Tier 1&#x27;, &#x27;Tier 2&#x27;, &#x27;Tier 3&#x27;]])</pre></div></div></div></div></div></div></div></div><div class=\"sk-parallel-item\"><div class=\"sk-item\"><div class=\"sk-label-container\"><div class=\"sk-label sk-toggleable\"><input class=\"sk-toggleable__control sk-hidden--visually\" id=\"b43eba33-c406-4f59-9035-86221f7897a6\" type=\"checkbox\" ><label for=\"b43eba33-c406-4f59-9035-86221f7897a6\" class=\"sk-toggleable__label sk-toggleable__label-arrow\">pipeline-2</label><div class=\"sk-toggleable__content\"><pre>[&#x27;Item_Weight&#x27;, &#x27;Outlet_Establishment_Year&#x27;, &#x27;Item_Visibility&#x27;, &#x27;Item_MRP&#x27;]</pre></div></div></div><div class=\"sk-serial\"><div class=\"sk-item\"><div class=\"sk-serial\"><div class=\"sk-item\"><div class=\"sk-estimator sk-toggleable\"><input class=\"sk-toggleable__control sk-hidden--visually\" id=\"a7f3662f-93bb-4dc3-859e-d073abf1daba\" type=\"checkbox\" ><label for=\"a7f3662f-93bb-4dc3-859e-d073abf1daba\" class=\"sk-toggleable__label sk-toggleable__label-arrow\">SimpleImputer</label><div class=\"sk-toggleable__content\"><pre>SimpleImputer()</pre></div></div></div><div class=\"sk-item\"><div class=\"sk-estimator sk-toggleable\"><input class=\"sk-toggleable__control sk-hidden--visually\" id=\"bb1ae72c-f1b2-49b9-9f1e-e56a853b3c61\" type=\"checkbox\" ><label for=\"bb1ae72c-f1b2-49b9-9f1e-e56a853b3c61\" class=\"sk-toggleable__label sk-toggleable__label-arrow\">StandardScaler</label><div class=\"sk-toggleable__content\"><pre>StandardScaler()</pre></div></div></div></div></div></div></div></div><div class=\"sk-parallel-item\"><div class=\"sk-item\"><div class=\"sk-label-container\"><div class=\"sk-label sk-toggleable\"><input class=\"sk-toggleable__control sk-hidden--visually\" id=\"ab9d1390-cd82-496e-8655-0f4af687bec3\" type=\"checkbox\" ><label for=\"ab9d1390-cd82-496e-8655-0f4af687bec3\" class=\"sk-toggleable__label sk-toggleable__label-arrow\">pipeline-3</label><div class=\"sk-toggleable__content\"><pre>[&#x27;Item_Fat_Content&#x27;, &#x27;Outlet_Type&#x27;, &#x27;Item_Fat_Content&#x27;, &#x27;Item_Type&#x27;]</pre></div></div></div><div class=\"sk-serial\"><div class=\"sk-item\"><div class=\"sk-serial\"><div class=\"sk-item\"><div class=\"sk-estimator sk-toggleable\"><input class=\"sk-toggleable__control sk-hidden--visually\" id=\"904d085a-71c8-4adf-af67-fd088664f2cd\" type=\"checkbox\" ><label for=\"904d085a-71c8-4adf-af67-fd088664f2cd\" class=\"sk-toggleable__label sk-toggleable__label-arrow\">SimpleImputer</label><div class=\"sk-toggleable__content\"><pre>SimpleImputer(fill_value=&#x27;missing&#x27;, strategy=&#x27;constant&#x27;)</pre></div></div></div><div class=\"sk-item\"><div class=\"sk-estimator sk-toggleable\"><input class=\"sk-toggleable__control sk-hidden--visually\" id=\"2863bd12-b031-4406-9d8d-9e0cb1139b51\" type=\"checkbox\" ><label for=\"2863bd12-b031-4406-9d8d-9e0cb1139b51\" class=\"sk-toggleable__label sk-toggleable__label-arrow\">OneHotEncoder</label><div class=\"sk-toggleable__content\"><pre>OneHotEncoder(handle_unknown=&#x27;ignore&#x27;, sparse=False)</pre></div></div></div></div></div></div></div></div></div></div><div class=\"sk-item\"><div class=\"sk-estimator sk-toggleable\"><input class=\"sk-toggleable__control sk-hidden--visually\" id=\"de88c331-57fc-4e07-b47b-5d3e1bf8ec27\" type=\"checkbox\" ><label for=\"de88c331-57fc-4e07-b47b-5d3e1bf8ec27\" class=\"sk-toggleable__label sk-toggleable__label-arrow\">DecisionTreeRegressor</label><div class=\"sk-toggleable__content\"><pre>DecisionTreeRegressor(max_depth=5, random_state=42)</pre></div></div></div></div></div></div></div>"
            ]
          },
          "metadata": {},
          "execution_count": 43
        }
      ]
    },
    {
      "cell_type": "code",
      "source": [
        "## Predictions for the tuned decision tree\n",
        "dec_tree_train = dec_tree_pipe_tuned.predict(X_train) \n",
        "dec_tree_test = dec_tree_pipe_tuned.predict(X_test)\n"
      ],
      "metadata": {
        "id": "jTW_nXFDTK9w"
      },
      "execution_count": 44,
      "outputs": []
    },
    {
      "cell_type": "code",
      "source": [
        "## Calculating RMSE for the tuned decision tree\n",
        "tree_train_MSE = mean_squared_error(y_train, dec_tree_train) \n",
        "tree_test_MSE = mean_squared_error(y_test, dec_tree_test)\n",
        "\n",
        "tree_train_RMSE = np.sqrt(tree_train_MSE) \n",
        "tree_test_RMSE = np.sqrt(tree_test_MSE)\n",
        "print(f'Model Training RMSE is: {tree_train_MSE}')\n",
        "print(f'Model Testing RMSE is: {tree_test_MSE}')"
      ],
      "metadata": {
        "id": "_U5jJNiNTLCe",
        "colab": {
          "base_uri": "https://localhost:8080/"
        },
        "outputId": "67c7dd55-397f-4045-9455-c0e2b125240c"
      },
      "execution_count": 45,
      "outputs": [
        {
          "output_type": "stream",
          "name": "stdout",
          "text": [
            "Model Training RMSE is: 1172122.7729098853\n",
            "Model Testing RMSE is: 1118185.973077762\n"
          ]
        }
      ]
    },
    {
      "cell_type": "code",
      "source": [
        "## Calculating r^2 for the tuned decision tree\n",
        "tree_train_r2 = r2_score(y_train, dec_tree_train)\n",
        "tree_test_r2 = r2_score(y_test, dec_tree_test)\n",
        "print(f'Model Training r2 is: {tree_train_r2}')\n",
        "print(f'Model Testing r2 is: {tree_test_r2}')"
      ],
      "metadata": {
        "id": "YUwFx5HxTQzS",
        "colab": {
          "base_uri": "https://localhost:8080/"
        },
        "outputId": "15b9b7d5-ed93-4022-b607-9eddccb8b823"
      },
      "execution_count": 46,
      "outputs": [
        {
          "output_type": "stream",
          "name": "stdout",
          "text": [
            "Model Training r2 is: 0.6039397477322956\n",
            "Model Testing r2 is: 0.5947099753159972\n"
          ]
        }
      ]
    },
    {
      "cell_type": "markdown",
      "source": [
        "---\n",
        "## Regression Tree Results\n",
        "\n",
        "The model had extremely low variance, but had slightly better bias than the regression analysis model. At 60% the perdictive power of the model is still relatively low, but can be useful. \n",
        "\n",
        "---"
      ],
      "metadata": {
        "id": "j8w-ik7uwTdZ"
      }
    },
    {
      "cell_type": "markdown",
      "source": [
        "--- \n",
        "\n",
        "## Model Selection \n",
        "\n",
        "Overall, the Regression Tree is the model I would reccomend. It's bias is 5% better while sacrificing only a increase in the amount of variance. \n",
        "\n",
        "---"
      ],
      "metadata": {
        "id": "66PgQ2oowVSI"
      }
    }
  ]
}